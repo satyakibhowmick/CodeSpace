{
 "cells": [
  {
   "cell_type": "code",
   "execution_count": 1,
   "metadata": {},
   "outputs": [],
   "source": [
    "import numpy as np\n",
    "import pandas as pd\n",
    "import seaborn as sns\n",
    "from scipy import stats\n",
    "from sklearn import preprocessing\n",
    "import matplotlib.pyplot as plt\n",
    "%matplotlib inline"
   ]
  },
  {
   "cell_type": "code",
   "execution_count": 2,
   "metadata": {},
   "outputs": [],
   "source": [
    "dataset = sns.load_dataset('titanic')"
   ]
  },
  {
   "cell_type": "code",
   "execution_count": 84,
   "metadata": {},
   "outputs": [],
   "source": [
    "data = dataset.copy()"
   ]
  },
  {
   "cell_type": "code",
   "execution_count": 58,
   "metadata": {},
   "outputs": [
    {
     "data": {
      "text/html": [
       "<div>\n",
       "<style scoped>\n",
       "    .dataframe tbody tr th:only-of-type {\n",
       "        vertical-align: middle;\n",
       "    }\n",
       "\n",
       "    .dataframe tbody tr th {\n",
       "        vertical-align: top;\n",
       "    }\n",
       "\n",
       "    .dataframe thead th {\n",
       "        text-align: right;\n",
       "    }\n",
       "</style>\n",
       "<table border=\"1\" class=\"dataframe\">\n",
       "  <thead>\n",
       "    <tr style=\"text-align: right;\">\n",
       "      <th></th>\n",
       "      <th>survived</th>\n",
       "      <th>pclass</th>\n",
       "      <th>sex</th>\n",
       "      <th>age</th>\n",
       "      <th>sibsp</th>\n",
       "      <th>parch</th>\n",
       "      <th>fare</th>\n",
       "      <th>embarked</th>\n",
       "      <th>class</th>\n",
       "      <th>who</th>\n",
       "      <th>adult_male</th>\n",
       "      <th>deck</th>\n",
       "      <th>embark_town</th>\n",
       "      <th>alive</th>\n",
       "      <th>alone</th>\n",
       "    </tr>\n",
       "  </thead>\n",
       "  <tbody>\n",
       "    <tr>\n",
       "      <th>0</th>\n",
       "      <td>0</td>\n",
       "      <td>3</td>\n",
       "      <td>male</td>\n",
       "      <td>22.0</td>\n",
       "      <td>1</td>\n",
       "      <td>0</td>\n",
       "      <td>7.2500</td>\n",
       "      <td>S</td>\n",
       "      <td>Third</td>\n",
       "      <td>man</td>\n",
       "      <td>True</td>\n",
       "      <td>NaN</td>\n",
       "      <td>Southampton</td>\n",
       "      <td>no</td>\n",
       "      <td>False</td>\n",
       "    </tr>\n",
       "    <tr>\n",
       "      <th>1</th>\n",
       "      <td>1</td>\n",
       "      <td>1</td>\n",
       "      <td>female</td>\n",
       "      <td>38.0</td>\n",
       "      <td>1</td>\n",
       "      <td>0</td>\n",
       "      <td>71.2833</td>\n",
       "      <td>C</td>\n",
       "      <td>First</td>\n",
       "      <td>woman</td>\n",
       "      <td>False</td>\n",
       "      <td>C</td>\n",
       "      <td>Cherbourg</td>\n",
       "      <td>yes</td>\n",
       "      <td>False</td>\n",
       "    </tr>\n",
       "    <tr>\n",
       "      <th>2</th>\n",
       "      <td>1</td>\n",
       "      <td>3</td>\n",
       "      <td>female</td>\n",
       "      <td>26.0</td>\n",
       "      <td>0</td>\n",
       "      <td>0</td>\n",
       "      <td>7.9250</td>\n",
       "      <td>S</td>\n",
       "      <td>Third</td>\n",
       "      <td>woman</td>\n",
       "      <td>False</td>\n",
       "      <td>NaN</td>\n",
       "      <td>Southampton</td>\n",
       "      <td>yes</td>\n",
       "      <td>True</td>\n",
       "    </tr>\n",
       "    <tr>\n",
       "      <th>3</th>\n",
       "      <td>1</td>\n",
       "      <td>1</td>\n",
       "      <td>female</td>\n",
       "      <td>35.0</td>\n",
       "      <td>1</td>\n",
       "      <td>0</td>\n",
       "      <td>53.1000</td>\n",
       "      <td>S</td>\n",
       "      <td>First</td>\n",
       "      <td>woman</td>\n",
       "      <td>False</td>\n",
       "      <td>C</td>\n",
       "      <td>Southampton</td>\n",
       "      <td>yes</td>\n",
       "      <td>False</td>\n",
       "    </tr>\n",
       "    <tr>\n",
       "      <th>4</th>\n",
       "      <td>0</td>\n",
       "      <td>3</td>\n",
       "      <td>male</td>\n",
       "      <td>35.0</td>\n",
       "      <td>0</td>\n",
       "      <td>0</td>\n",
       "      <td>8.0500</td>\n",
       "      <td>S</td>\n",
       "      <td>Third</td>\n",
       "      <td>man</td>\n",
       "      <td>True</td>\n",
       "      <td>NaN</td>\n",
       "      <td>Southampton</td>\n",
       "      <td>no</td>\n",
       "      <td>True</td>\n",
       "    </tr>\n",
       "  </tbody>\n",
       "</table>\n",
       "</div>"
      ],
      "text/plain": [
       "   survived  pclass     sex   age  sibsp  parch     fare embarked  class  \\\n",
       "0         0       3    male  22.0      1      0   7.2500        S  Third   \n",
       "1         1       1  female  38.0      1      0  71.2833        C  First   \n",
       "2         1       3  female  26.0      0      0   7.9250        S  Third   \n",
       "3         1       1  female  35.0      1      0  53.1000        S  First   \n",
       "4         0       3    male  35.0      0      0   8.0500        S  Third   \n",
       "\n",
       "     who  adult_male deck  embark_town alive  alone  \n",
       "0    man        True  NaN  Southampton    no  False  \n",
       "1  woman       False    C    Cherbourg   yes  False  \n",
       "2  woman       False  NaN  Southampton   yes   True  \n",
       "3  woman       False    C  Southampton   yes  False  \n",
       "4    man        True  NaN  Southampton    no   True  "
      ]
     },
     "execution_count": 58,
     "metadata": {},
     "output_type": "execute_result"
    }
   ],
   "source": [
    "data.head()"
   ]
  },
  {
   "cell_type": "code",
   "execution_count": 85,
   "metadata": {},
   "outputs": [],
   "source": [
    "data.drop_duplicates(subset=None,keep='first',inplace=True)"
   ]
  },
  {
   "cell_type": "code",
   "execution_count": 61,
   "metadata": {},
   "outputs": [
    {
     "data": {
      "text/plain": [
       "(891, 15)"
      ]
     },
     "execution_count": 61,
     "metadata": {},
     "output_type": "execute_result"
    }
   ],
   "source": [
    "dataset.shape"
   ]
  },
  {
   "cell_type": "code",
   "execution_count": 86,
   "metadata": {},
   "outputs": [
    {
     "data": {
      "text/plain": [
       "(784, 15)"
      ]
     },
     "execution_count": 86,
     "metadata": {},
     "output_type": "execute_result"
    }
   ],
   "source": [
    "data.shape"
   ]
  },
  {
   "cell_type": "code",
   "execution_count": 63,
   "metadata": {},
   "outputs": [],
   "source": [
    "data1 = dataset.copy()"
   ]
  },
  {
   "cell_type": "code",
   "execution_count": 11,
   "metadata": {},
   "outputs": [],
   "source": [
    "def duplicate_dropping(df):\n",
    "    '''Drops all the duplicate\n",
    "    columns in a dataset'''\n",
    "    df.drop_duplicates(subset=None,keep='first',inplace=True)\n",
    "    return df"
   ]
  },
  {
   "cell_type": "code",
   "execution_count": 64,
   "metadata": {},
   "outputs": [
    {
     "data": {
      "text/html": [
       "<div>\n",
       "<style scoped>\n",
       "    .dataframe tbody tr th:only-of-type {\n",
       "        vertical-align: middle;\n",
       "    }\n",
       "\n",
       "    .dataframe tbody tr th {\n",
       "        vertical-align: top;\n",
       "    }\n",
       "\n",
       "    .dataframe thead th {\n",
       "        text-align: right;\n",
       "    }\n",
       "</style>\n",
       "<table border=\"1\" class=\"dataframe\">\n",
       "  <thead>\n",
       "    <tr style=\"text-align: right;\">\n",
       "      <th></th>\n",
       "      <th>survived</th>\n",
       "      <th>pclass</th>\n",
       "      <th>sex</th>\n",
       "      <th>age</th>\n",
       "      <th>sibsp</th>\n",
       "      <th>parch</th>\n",
       "      <th>fare</th>\n",
       "      <th>embarked</th>\n",
       "      <th>class</th>\n",
       "      <th>who</th>\n",
       "      <th>adult_male</th>\n",
       "      <th>deck</th>\n",
       "      <th>embark_town</th>\n",
       "      <th>alive</th>\n",
       "      <th>alone</th>\n",
       "    </tr>\n",
       "  </thead>\n",
       "  <tbody>\n",
       "    <tr>\n",
       "      <th>0</th>\n",
       "      <td>0</td>\n",
       "      <td>3</td>\n",
       "      <td>male</td>\n",
       "      <td>22.0</td>\n",
       "      <td>1</td>\n",
       "      <td>0</td>\n",
       "      <td>7.2500</td>\n",
       "      <td>S</td>\n",
       "      <td>Third</td>\n",
       "      <td>man</td>\n",
       "      <td>True</td>\n",
       "      <td>NaN</td>\n",
       "      <td>Southampton</td>\n",
       "      <td>no</td>\n",
       "      <td>False</td>\n",
       "    </tr>\n",
       "    <tr>\n",
       "      <th>1</th>\n",
       "      <td>1</td>\n",
       "      <td>1</td>\n",
       "      <td>female</td>\n",
       "      <td>38.0</td>\n",
       "      <td>1</td>\n",
       "      <td>0</td>\n",
       "      <td>71.2833</td>\n",
       "      <td>C</td>\n",
       "      <td>First</td>\n",
       "      <td>woman</td>\n",
       "      <td>False</td>\n",
       "      <td>C</td>\n",
       "      <td>Cherbourg</td>\n",
       "      <td>yes</td>\n",
       "      <td>False</td>\n",
       "    </tr>\n",
       "    <tr>\n",
       "      <th>2</th>\n",
       "      <td>1</td>\n",
       "      <td>3</td>\n",
       "      <td>female</td>\n",
       "      <td>26.0</td>\n",
       "      <td>0</td>\n",
       "      <td>0</td>\n",
       "      <td>7.9250</td>\n",
       "      <td>S</td>\n",
       "      <td>Third</td>\n",
       "      <td>woman</td>\n",
       "      <td>False</td>\n",
       "      <td>NaN</td>\n",
       "      <td>Southampton</td>\n",
       "      <td>yes</td>\n",
       "      <td>True</td>\n",
       "    </tr>\n",
       "    <tr>\n",
       "      <th>3</th>\n",
       "      <td>1</td>\n",
       "      <td>1</td>\n",
       "      <td>female</td>\n",
       "      <td>35.0</td>\n",
       "      <td>1</td>\n",
       "      <td>0</td>\n",
       "      <td>53.1000</td>\n",
       "      <td>S</td>\n",
       "      <td>First</td>\n",
       "      <td>woman</td>\n",
       "      <td>False</td>\n",
       "      <td>C</td>\n",
       "      <td>Southampton</td>\n",
       "      <td>yes</td>\n",
       "      <td>False</td>\n",
       "    </tr>\n",
       "    <tr>\n",
       "      <th>4</th>\n",
       "      <td>0</td>\n",
       "      <td>3</td>\n",
       "      <td>male</td>\n",
       "      <td>35.0</td>\n",
       "      <td>0</td>\n",
       "      <td>0</td>\n",
       "      <td>8.0500</td>\n",
       "      <td>S</td>\n",
       "      <td>Third</td>\n",
       "      <td>man</td>\n",
       "      <td>True</td>\n",
       "      <td>NaN</td>\n",
       "      <td>Southampton</td>\n",
       "      <td>no</td>\n",
       "      <td>True</td>\n",
       "    </tr>\n",
       "    <tr>\n",
       "      <th>...</th>\n",
       "      <td>...</td>\n",
       "      <td>...</td>\n",
       "      <td>...</td>\n",
       "      <td>...</td>\n",
       "      <td>...</td>\n",
       "      <td>...</td>\n",
       "      <td>...</td>\n",
       "      <td>...</td>\n",
       "      <td>...</td>\n",
       "      <td>...</td>\n",
       "      <td>...</td>\n",
       "      <td>...</td>\n",
       "      <td>...</td>\n",
       "      <td>...</td>\n",
       "      <td>...</td>\n",
       "    </tr>\n",
       "    <tr>\n",
       "      <th>885</th>\n",
       "      <td>0</td>\n",
       "      <td>3</td>\n",
       "      <td>female</td>\n",
       "      <td>39.0</td>\n",
       "      <td>0</td>\n",
       "      <td>5</td>\n",
       "      <td>29.1250</td>\n",
       "      <td>Q</td>\n",
       "      <td>Third</td>\n",
       "      <td>woman</td>\n",
       "      <td>False</td>\n",
       "      <td>NaN</td>\n",
       "      <td>Queenstown</td>\n",
       "      <td>no</td>\n",
       "      <td>False</td>\n",
       "    </tr>\n",
       "    <tr>\n",
       "      <th>887</th>\n",
       "      <td>1</td>\n",
       "      <td>1</td>\n",
       "      <td>female</td>\n",
       "      <td>19.0</td>\n",
       "      <td>0</td>\n",
       "      <td>0</td>\n",
       "      <td>30.0000</td>\n",
       "      <td>S</td>\n",
       "      <td>First</td>\n",
       "      <td>woman</td>\n",
       "      <td>False</td>\n",
       "      <td>B</td>\n",
       "      <td>Southampton</td>\n",
       "      <td>yes</td>\n",
       "      <td>True</td>\n",
       "    </tr>\n",
       "    <tr>\n",
       "      <th>888</th>\n",
       "      <td>0</td>\n",
       "      <td>3</td>\n",
       "      <td>female</td>\n",
       "      <td>NaN</td>\n",
       "      <td>1</td>\n",
       "      <td>2</td>\n",
       "      <td>23.4500</td>\n",
       "      <td>S</td>\n",
       "      <td>Third</td>\n",
       "      <td>woman</td>\n",
       "      <td>False</td>\n",
       "      <td>NaN</td>\n",
       "      <td>Southampton</td>\n",
       "      <td>no</td>\n",
       "      <td>False</td>\n",
       "    </tr>\n",
       "    <tr>\n",
       "      <th>889</th>\n",
       "      <td>1</td>\n",
       "      <td>1</td>\n",
       "      <td>male</td>\n",
       "      <td>26.0</td>\n",
       "      <td>0</td>\n",
       "      <td>0</td>\n",
       "      <td>30.0000</td>\n",
       "      <td>C</td>\n",
       "      <td>First</td>\n",
       "      <td>man</td>\n",
       "      <td>True</td>\n",
       "      <td>C</td>\n",
       "      <td>Cherbourg</td>\n",
       "      <td>yes</td>\n",
       "      <td>True</td>\n",
       "    </tr>\n",
       "    <tr>\n",
       "      <th>890</th>\n",
       "      <td>0</td>\n",
       "      <td>3</td>\n",
       "      <td>male</td>\n",
       "      <td>32.0</td>\n",
       "      <td>0</td>\n",
       "      <td>0</td>\n",
       "      <td>7.7500</td>\n",
       "      <td>Q</td>\n",
       "      <td>Third</td>\n",
       "      <td>man</td>\n",
       "      <td>True</td>\n",
       "      <td>NaN</td>\n",
       "      <td>Queenstown</td>\n",
       "      <td>no</td>\n",
       "      <td>True</td>\n",
       "    </tr>\n",
       "  </tbody>\n",
       "</table>\n",
       "<p>784 rows × 15 columns</p>\n",
       "</div>"
      ],
      "text/plain": [
       "     survived  pclass     sex   age  sibsp  parch     fare embarked  class  \\\n",
       "0           0       3    male  22.0      1      0   7.2500        S  Third   \n",
       "1           1       1  female  38.0      1      0  71.2833        C  First   \n",
       "2           1       3  female  26.0      0      0   7.9250        S  Third   \n",
       "3           1       1  female  35.0      1      0  53.1000        S  First   \n",
       "4           0       3    male  35.0      0      0   8.0500        S  Third   \n",
       "..        ...     ...     ...   ...    ...    ...      ...      ...    ...   \n",
       "885         0       3  female  39.0      0      5  29.1250        Q  Third   \n",
       "887         1       1  female  19.0      0      0  30.0000        S  First   \n",
       "888         0       3  female   NaN      1      2  23.4500        S  Third   \n",
       "889         1       1    male  26.0      0      0  30.0000        C  First   \n",
       "890         0       3    male  32.0      0      0   7.7500        Q  Third   \n",
       "\n",
       "       who  adult_male deck  embark_town alive  alone  \n",
       "0      man        True  NaN  Southampton    no  False  \n",
       "1    woman       False    C    Cherbourg   yes  False  \n",
       "2    woman       False  NaN  Southampton   yes   True  \n",
       "3    woman       False    C  Southampton   yes  False  \n",
       "4      man        True  NaN  Southampton    no   True  \n",
       "..     ...         ...  ...          ...   ...    ...  \n",
       "885  woman       False  NaN   Queenstown    no  False  \n",
       "887  woman       False    B  Southampton   yes   True  \n",
       "888  woman       False  NaN  Southampton    no  False  \n",
       "889    man        True    C    Cherbourg   yes   True  \n",
       "890    man        True  NaN   Queenstown    no   True  \n",
       "\n",
       "[784 rows x 15 columns]"
      ]
     },
     "execution_count": 64,
     "metadata": {},
     "output_type": "execute_result"
    }
   ],
   "source": [
    "duplicate_dropping(data1)"
   ]
  },
  {
   "cell_type": "code",
   "execution_count": 65,
   "metadata": {},
   "outputs": [
    {
     "data": {
      "text/plain": [
       "(784, 15)"
      ]
     },
     "execution_count": 65,
     "metadata": {},
     "output_type": "execute_result"
    }
   ],
   "source": [
    "data1.shape"
   ]
  },
  {
   "cell_type": "code",
   "execution_count": null,
   "metadata": {},
   "outputs": [],
   "source": []
  },
  {
   "cell_type": "code",
   "execution_count": null,
   "metadata": {},
   "outputs": [],
   "source": []
  },
  {
   "cell_type": "code",
   "execution_count": 66,
   "metadata": {},
   "outputs": [
    {
     "data": {
      "text/plain": [
       "survived         0\n",
       "pclass           0\n",
       "sex              0\n",
       "age            106\n",
       "sibsp            0\n",
       "parch            0\n",
       "fare             0\n",
       "embarked         2\n",
       "class            0\n",
       "who              0\n",
       "adult_male       0\n",
       "deck           582\n",
       "embark_town      2\n",
       "alive            0\n",
       "alone            0\n",
       "dtype: int64"
      ]
     },
     "execution_count": 66,
     "metadata": {},
     "output_type": "execute_result"
    }
   ],
   "source": [
    "data.isna().sum()"
   ]
  },
  {
   "cell_type": "code",
   "execution_count": 67,
   "metadata": {},
   "outputs": [
    {
     "data": {
      "text/plain": [
       "survived          int64\n",
       "pclass            int64\n",
       "sex              object\n",
       "age             float64\n",
       "sibsp             int64\n",
       "parch             int64\n",
       "fare            float64\n",
       "embarked         object\n",
       "class          category\n",
       "who              object\n",
       "adult_male         bool\n",
       "deck           category\n",
       "embark_town      object\n",
       "alive            object\n",
       "alone              bool\n",
       "dtype: object"
      ]
     },
     "execution_count": 67,
     "metadata": {},
     "output_type": "execute_result"
    }
   ],
   "source": [
    "data.dtypes"
   ]
  },
  {
   "cell_type": "code",
   "execution_count": 68,
   "metadata": {},
   "outputs": [],
   "source": [
    "columns = data.columns"
   ]
  },
  {
   "cell_type": "code",
   "execution_count": 69,
   "metadata": {},
   "outputs": [
    {
     "data": {
      "text/plain": [
       "Index(['survived', 'pclass', 'sex', 'age', 'sibsp', 'parch', 'fare',\n",
       "       'embarked', 'class', 'who', 'adult_male', 'deck', 'embark_town',\n",
       "       'alive', 'alone'],\n",
       "      dtype='object')"
      ]
     },
     "execution_count": 69,
     "metadata": {},
     "output_type": "execute_result"
    }
   ],
   "source": [
    "columns"
   ]
  },
  {
   "cell_type": "code",
   "execution_count": 70,
   "metadata": {},
   "outputs": [],
   "source": [
    "numeric_columns = []\n",
    "categorical_columns = []\n",
    "\n",
    "for col in columns:\n",
    "    if data[col].dtype in ['int64','float64']:\n",
    "        numeric_columns.append(col)\n",
    "    else:\n",
    "        categorical_columns.append(col)"
   ]
  },
  {
   "cell_type": "code",
   "execution_count": 71,
   "metadata": {},
   "outputs": [
    {
     "name": "stdout",
     "output_type": "stream",
     "text": [
      "['survived', 'pclass', 'age', 'sibsp', 'parch', 'fare']\n",
      "['sex', 'embarked', 'class', 'who', 'adult_male', 'deck', 'embark_town', 'alive', 'alone']\n"
     ]
    }
   ],
   "source": [
    "print(numeric_columns)\n",
    "print(categorical_columns)"
   ]
  },
  {
   "cell_type": "code",
   "execution_count": 72,
   "metadata": {},
   "outputs": [
    {
     "name": "stdout",
     "output_type": "stream",
     "text": [
      "['age']\n",
      "['embarked', 'deck', 'embark_town']\n"
     ]
    }
   ],
   "source": [
    "numeric_null = []\n",
    "categorical_null = []\n",
    "\n",
    "for col in numeric_columns:\n",
    "    if data[col].isna().sum() > 0:\n",
    "        numeric_null.append(col)\n",
    "    else:\n",
    "        pass\n",
    "    \n",
    "for cols in categorical_columns:\n",
    "    if data[cols].isna().sum() > 0:\n",
    "        categorical_null.append(cols)\n",
    "    else:\n",
    "        pass\n",
    "    \n",
    "print(numeric_null)\n",
    "print(categorical_null)"
   ]
  },
  {
   "cell_type": "code",
   "execution_count": 88,
   "metadata": {},
   "outputs": [
    {
     "name": "stderr",
     "output_type": "stream",
     "text": [
      "C:\\Users\\Satyaki\\anaconda3\\lib\\site-packages\\seaborn\\_decorators.py:36: FutureWarning: Pass the following variables as keyword args: x, y. From version 0.12, the only valid positional argument will be `data`, and passing other arguments without an explicit keyword will result in an error or misinterpretation.\n",
      "  warnings.warn(\n"
     ]
    },
    {
     "data": {
      "text/plain": [
       "<AxesSubplot:xlabel='pclass', ylabel='age'>"
      ]
     },
     "execution_count": 88,
     "metadata": {},
     "output_type": "execute_result"
    },
    {
     "data": {
      "image/png": "[encoded data removed]",
      "text/plain": [
       "<Figure size 432x288 with 1 Axes>"
      ]
     },
     "metadata": {
      "needs_background": "light"
     },
     "output_type": "display_data"
    }
   ],
   "source": [
    "sns.boxplot(data['pclass'],data['age'])"
   ]
  },
  {
   "cell_type": "code",
   "execution_count": 74,
   "metadata": {},
   "outputs": [
    {
     "data": {
      "text/html": [
       "<div>\n",
       "<style scoped>\n",
       "    .dataframe tbody tr th:only-of-type {\n",
       "        vertical-align: middle;\n",
       "    }\n",
       "\n",
       "    .dataframe tbody tr th {\n",
       "        vertical-align: top;\n",
       "    }\n",
       "\n",
       "    .dataframe thead th {\n",
       "        text-align: right;\n",
       "    }\n",
       "</style>\n",
       "<table border=\"1\" class=\"dataframe\">\n",
       "  <thead>\n",
       "    <tr style=\"text-align: right;\">\n",
       "      <th></th>\n",
       "      <th>pclass</th>\n",
       "      <th>age</th>\n",
       "    </tr>\n",
       "  </thead>\n",
       "  <tbody>\n",
       "    <tr>\n",
       "      <th>0</th>\n",
       "      <td>3</td>\n",
       "      <td>22.0</td>\n",
       "    </tr>\n",
       "    <tr>\n",
       "      <th>1</th>\n",
       "      <td>1</td>\n",
       "      <td>38.0</td>\n",
       "    </tr>\n",
       "    <tr>\n",
       "      <th>2</th>\n",
       "      <td>3</td>\n",
       "      <td>26.0</td>\n",
       "    </tr>\n",
       "    <tr>\n",
       "      <th>3</th>\n",
       "      <td>1</td>\n",
       "      <td>35.0</td>\n",
       "    </tr>\n",
       "    <tr>\n",
       "      <th>4</th>\n",
       "      <td>3</td>\n",
       "      <td>35.0</td>\n",
       "    </tr>\n",
       "    <tr>\n",
       "      <th>...</th>\n",
       "      <td>...</td>\n",
       "      <td>...</td>\n",
       "    </tr>\n",
       "    <tr>\n",
       "      <th>885</th>\n",
       "      <td>3</td>\n",
       "      <td>39.0</td>\n",
       "    </tr>\n",
       "    <tr>\n",
       "      <th>887</th>\n",
       "      <td>1</td>\n",
       "      <td>19.0</td>\n",
       "    </tr>\n",
       "    <tr>\n",
       "      <th>888</th>\n",
       "      <td>3</td>\n",
       "      <td>NaN</td>\n",
       "    </tr>\n",
       "    <tr>\n",
       "      <th>889</th>\n",
       "      <td>1</td>\n",
       "      <td>26.0</td>\n",
       "    </tr>\n",
       "    <tr>\n",
       "      <th>890</th>\n",
       "      <td>3</td>\n",
       "      <td>32.0</td>\n",
       "    </tr>\n",
       "  </tbody>\n",
       "</table>\n",
       "<p>784 rows × 2 columns</p>\n",
       "</div>"
      ],
      "text/plain": [
       "     pclass   age\n",
       "0         3  22.0\n",
       "1         1  38.0\n",
       "2         3  26.0\n",
       "3         1  35.0\n",
       "4         3  35.0\n",
       "..      ...   ...\n",
       "885       3  39.0\n",
       "887       1  19.0\n",
       "888       3   NaN\n",
       "889       1  26.0\n",
       "890       3  32.0\n",
       "\n",
       "[784 rows x 2 columns]"
      ]
     },
     "execution_count": 74,
     "metadata": {},
     "output_type": "execute_result"
    }
   ],
   "source": [
    "data[['pclass','age']]"
   ]
  },
  {
   "cell_type": "code",
   "execution_count": 75,
   "metadata": {},
   "outputs": [
    {
     "name": "stdout",
     "output_type": "stream",
     "text": [
      "38.0\n"
     ]
    }
   ],
   "source": [
    "mean_age_pclass1 = np.round(data[data['pclass'] == 1]['age'].mean())\n",
    "print(mean_age_pclass1)"
   ]
  },
  {
   "cell_type": "code",
   "execution_count": 76,
   "metadata": {},
   "outputs": [
    {
     "name": "stdout",
     "output_type": "stream",
     "text": [
      "24.0\n"
     ]
    }
   ],
   "source": [
    "mode_age_pclass2 = data[data['pclass'] == 2]['age'].mode()[0]\n",
    "print(mode_age_pclass2)"
   ]
  },
  {
   "cell_type": "code",
   "execution_count": 77,
   "metadata": {},
   "outputs": [
    {
     "name": "stdout",
     "output_type": "stream",
     "text": [
      "22.0\n"
     ]
    }
   ],
   "source": [
    "mode_age_pclass3 = data[data['pclass'] == 3]['age'].mode()[0]\n",
    "print(mode_age_pclass3)"
   ]
  },
  {
   "cell_type": "code",
   "execution_count": 112,
   "metadata": {},
   "outputs": [
    {
     "data": {
      "text/plain": [
       "survived         0\n",
       "pclass           0\n",
       "sex              0\n",
       "age            106\n",
       "sibsp            0\n",
       "parch            0\n",
       "fare             0\n",
       "embarked         2\n",
       "class            0\n",
       "who              0\n",
       "adult_male       0\n",
       "deck           582\n",
       "embark_town      2\n",
       "alive            0\n",
       "alone            0\n",
       "dtype: int64"
      ]
     },
     "execution_count": 112,
     "metadata": {},
     "output_type": "execute_result"
    }
   ],
   "source": [
    "data.isna().sum()"
   ]
  },
  {
   "cell_type": "code",
   "execution_count": 131,
   "metadata": {},
   "outputs": [
    {
     "data": {
      "text/plain": [
       "<AxesSubplot:>"
      ]
     },
     "execution_count": 131,
     "metadata": {},
     "output_type": "execute_result"
    },
    {
     "data": {
      "image/png": "[encoded data removed]",
      "text/plain": [
       "<Figure size 432x288 with 1 Axes>"
      ]
     },
     "metadata": {
      "needs_background": "light"
     },
     "output_type": "display_data"
    }
   ],
   "source": [
    "pd.DataFrame(data['age']).boxplot(vert=False)"
   ]
  },
  {
   "cell_type": "code",
   "execution_count": null,
   "metadata": {},
   "outputs": [],
   "source": []
  },
  {
   "cell_type": "code",
   "execution_count": 133,
   "metadata": {},
   "outputs": [],
   "source": [
    "data['age'].fillna(data['age'].mode()[0],inplace=True)"
   ]
  },
  {
   "cell_type": "code",
   "execution_count": 134,
   "metadata": {},
   "outputs": [
    {
     "data": {
      "text/plain": [
       "0"
      ]
     },
     "execution_count": 134,
     "metadata": {},
     "output_type": "execute_result"
    }
   ],
   "source": [
    "data['age'].isna().sum()"
   ]
  },
  {
   "cell_type": "code",
   "execution_count": 135,
   "metadata": {},
   "outputs": [
    {
     "data": {
      "text/plain": [
       "<AxesSubplot:>"
      ]
     },
     "execution_count": 135,
     "metadata": {},
     "output_type": "execute_result"
    },
    {
     "data": {
      "image/png": "[encoded data removed]",
      "text/plain": [
       "<Figure size 432x288 with 1 Axes>"
      ]
     },
     "metadata": {
      "needs_background": "light"
     },
     "output_type": "display_data"
    }
   ],
   "source": [
    "(pd.DataFrame(data['age'])).boxplot(vert=False)"
   ]
  },
  {
   "cell_type": "code",
   "execution_count": 136,
   "metadata": {},
   "outputs": [],
   "source": [
    "for i in categorical_null:\n",
    "    data[i].fillna(data[i].mode()[0],inplace=True)"
   ]
  },
  {
   "cell_type": "code",
   "execution_count": 138,
   "metadata": {},
   "outputs": [
    {
     "data": {
      "text/plain": [
       "0"
      ]
     },
     "execution_count": 138,
     "metadata": {},
     "output_type": "execute_result"
    }
   ],
   "source": [
    "data.isna().sum().sum()"
   ]
  },
  {
   "cell_type": "code",
   "execution_count": 139,
   "metadata": {},
   "outputs": [
    {
     "data": {
      "text/plain": [
       "(784, 15)"
      ]
     },
     "execution_count": 139,
     "metadata": {},
     "output_type": "execute_result"
    }
   ],
   "source": [
    "data.shape"
   ]
  },
  {
   "cell_type": "code",
   "execution_count": 141,
   "metadata": {},
   "outputs": [
    {
     "name": "stdout",
     "output_type": "stream",
     "text": [
      "<class 'pandas.core.frame.DataFrame'>\n",
      "Int64Index: 784 entries, 0 to 890\n",
      "Data columns (total 15 columns):\n",
      " #   Column       Non-Null Count  Dtype   \n",
      "---  ------       --------------  -----   \n",
      " 0   survived     784 non-null    int64   \n",
      " 1   pclass       784 non-null    int64   \n",
      " 2   sex          784 non-null    object  \n",
      " 3   age          784 non-null    float64 \n",
      " 4   sibsp        784 non-null    int64   \n",
      " 5   parch        784 non-null    int64   \n",
      " 6   fare         784 non-null    float64 \n",
      " 7   embarked     784 non-null    object  \n",
      " 8   class        784 non-null    category\n",
      " 9   who          784 non-null    object  \n",
      " 10  adult_male   784 non-null    bool    \n",
      " 11  deck         784 non-null    category\n",
      " 12  embark_town  784 non-null    object  \n",
      " 13  alive        784 non-null    object  \n",
      " 14  alone        784 non-null    bool    \n",
      "dtypes: bool(2), category(2), float64(2), int64(4), object(5)\n",
      "memory usage: 97.0+ KB\n"
     ]
    }
   ],
   "source": [
    "data.info()"
   ]
  },
  {
   "cell_type": "code",
   "execution_count": 143,
   "metadata": {},
   "outputs": [
    {
     "data": {
      "text/html": [
       "<div>\n",
       "<style scoped>\n",
       "    .dataframe tbody tr th:only-of-type {\n",
       "        vertical-align: middle;\n",
       "    }\n",
       "\n",
       "    .dataframe tbody tr th {\n",
       "        vertical-align: top;\n",
       "    }\n",
       "\n",
       "    .dataframe thead th {\n",
       "        text-align: right;\n",
       "    }\n",
       "</style>\n",
       "<table border=\"1\" class=\"dataframe\">\n",
       "  <thead>\n",
       "    <tr style=\"text-align: right;\">\n",
       "      <th></th>\n",
       "      <th>survived</th>\n",
       "      <th>pclass</th>\n",
       "      <th>age</th>\n",
       "      <th>sibsp</th>\n",
       "      <th>parch</th>\n",
       "      <th>fare</th>\n",
       "    </tr>\n",
       "  </thead>\n",
       "  <tbody>\n",
       "    <tr>\n",
       "      <th>count</th>\n",
       "      <td>784.000000</td>\n",
       "      <td>784.000000</td>\n",
       "      <td>784.000000</td>\n",
       "      <td>784.000000</td>\n",
       "      <td>784.000000</td>\n",
       "      <td>784.000000</td>\n",
       "    </tr>\n",
       "    <tr>\n",
       "      <th>mean</th>\n",
       "      <td>0.411990</td>\n",
       "      <td>2.243622</td>\n",
       "      <td>29.075791</td>\n",
       "      <td>0.522959</td>\n",
       "      <td>0.415816</td>\n",
       "      <td>34.711740</td>\n",
       "    </tr>\n",
       "    <tr>\n",
       "      <th>std</th>\n",
       "      <td>0.492507</td>\n",
       "      <td>0.855056</td>\n",
       "      <td>13.869905</td>\n",
       "      <td>0.986231</td>\n",
       "      <td>0.836922</td>\n",
       "      <td>52.160151</td>\n",
       "    </tr>\n",
       "    <tr>\n",
       "      <th>min</th>\n",
       "      <td>0.000000</td>\n",
       "      <td>1.000000</td>\n",
       "      <td>0.420000</td>\n",
       "      <td>0.000000</td>\n",
       "      <td>0.000000</td>\n",
       "      <td>0.000000</td>\n",
       "    </tr>\n",
       "    <tr>\n",
       "      <th>25%</th>\n",
       "      <td>0.000000</td>\n",
       "      <td>1.000000</td>\n",
       "      <td>22.000000</td>\n",
       "      <td>0.000000</td>\n",
       "      <td>0.000000</td>\n",
       "      <td>8.050000</td>\n",
       "    </tr>\n",
       "    <tr>\n",
       "      <th>50%</th>\n",
       "      <td>0.000000</td>\n",
       "      <td>3.000000</td>\n",
       "      <td>26.000000</td>\n",
       "      <td>0.000000</td>\n",
       "      <td>0.000000</td>\n",
       "      <td>15.900000</td>\n",
       "    </tr>\n",
       "    <tr>\n",
       "      <th>75%</th>\n",
       "      <td>1.000000</td>\n",
       "      <td>3.000000</td>\n",
       "      <td>36.000000</td>\n",
       "      <td>1.000000</td>\n",
       "      <td>1.000000</td>\n",
       "      <td>34.109350</td>\n",
       "    </tr>\n",
       "    <tr>\n",
       "      <th>max</th>\n",
       "      <td>1.000000</td>\n",
       "      <td>3.000000</td>\n",
       "      <td>80.000000</td>\n",
       "      <td>8.000000</td>\n",
       "      <td>6.000000</td>\n",
       "      <td>512.329200</td>\n",
       "    </tr>\n",
       "  </tbody>\n",
       "</table>\n",
       "</div>"
      ],
      "text/plain": [
       "         survived      pclass         age       sibsp       parch        fare\n",
       "count  784.000000  784.000000  784.000000  784.000000  784.000000  784.000000\n",
       "mean     0.411990    2.243622   29.075791    0.522959    0.415816   34.711740\n",
       "std      0.492507    0.855056   13.869905    0.986231    0.836922   52.160151\n",
       "min      0.000000    1.000000    0.420000    0.000000    0.000000    0.000000\n",
       "25%      0.000000    1.000000   22.000000    0.000000    0.000000    8.050000\n",
       "50%      0.000000    3.000000   26.000000    0.000000    0.000000   15.900000\n",
       "75%      1.000000    3.000000   36.000000    1.000000    1.000000   34.109350\n",
       "max      1.000000    3.000000   80.000000    8.000000    6.000000  512.329200"
      ]
     },
     "execution_count": 143,
     "metadata": {},
     "output_type": "execute_result"
    }
   ],
   "source": [
    "data.describe()"
   ]
  },
  {
   "cell_type": "code",
   "execution_count": 144,
   "metadata": {},
   "outputs": [
    {
     "name": "stderr",
     "output_type": "stream",
     "text": [
      "<__array_function__ internals>:5: RuntimeWarning: Converting input from bool to <class 'numpy.uint8'> for compatibility.\n",
      "<__array_function__ internals>:5: RuntimeWarning: Converting input from bool to <class 'numpy.uint8'> for compatibility.\n",
      "<__array_function__ internals>:5: RuntimeWarning: Converting input from bool to <class 'numpy.uint8'> for compatibility.\n",
      "<__array_function__ internals>:5: RuntimeWarning: Converting input from bool to <class 'numpy.uint8'> for compatibility.\n"
     ]
    },
    {
     "data": {
      "text/plain": [
       "<seaborn.axisgrid.PairGrid at 0x214fcfbb760>"
      ]
     },
     "execution_count": 144,
     "metadata": {},
     "output_type": "execute_result"
    },
    {
     "data": {
      "image/png": "[encoded data removed]",
      "text/plain": [
       "<Figure size 1440x1440 with 72 Axes>"
      ]
     },
     "metadata": {
      "needs_background": "light"
     },
     "output_type": "display_data"
    }
   ],
   "source": [
    "sns.pairplot(data)"
   ]
  },
  {
   "cell_type": "code",
   "execution_count": 145,
   "metadata": {},
   "outputs": [
    {
     "data": {
      "text/plain": [
       "<AxesSubplot:xlabel='age', ylabel='Count'>"
      ]
     },
     "execution_count": 145,
     "metadata": {},
     "output_type": "execute_result"
    },
    {
     "data": {
      "image/png": "[encoded data removed]",
      "text/plain": [
       "<Figure size 432x288 with 1 Axes>"
      ]
     },
     "metadata": {
      "needs_background": "light"
     },
     "output_type": "display_data"
    }
   ],
   "source": [
    "sns.histplot(data['age'],kde=True)"
   ]
  },
  {
   "cell_type": "code",
   "execution_count": 148,
   "metadata": {},
   "outputs": [],
   "source": [
    "log10_transformation_age = np.log10(data['age'])"
   ]
  },
  {
   "cell_type": "code",
   "execution_count": 152,
   "metadata": {},
   "outputs": [
    {
     "data": {
      "text/plain": [
       "<AxesSubplot:xlabel='age', ylabel='Count'>"
      ]
     },
     "execution_count": 152,
     "metadata": {},
     "output_type": "execute_result"
    },
    {
     "data": {
      "image/png": "[encoded data removed]",
      "text/plain": [
       "<Figure size 432x288 with 1 Axes>"
      ]
     },
     "metadata": {
      "needs_background": "light"
     },
     "output_type": "display_data"
    }
   ],
   "source": [
    "sns.histplot(log10_transformation_age,kde=True)"
   ]
  },
  {
   "cell_type": "code",
   "execution_count": null,
   "metadata": {},
   "outputs": [],
   "source": []
  },
  {
   "cell_type": "code",
   "execution_count": 149,
   "metadata": {},
   "outputs": [],
   "source": [
    "log2_transformation_age = np.log2(data['age'])"
   ]
  },
  {
   "cell_type": "code",
   "execution_count": 154,
   "metadata": {},
   "outputs": [
    {
     "data": {
      "text/plain": [
       "<AxesSubplot:xlabel='age', ylabel='Count'>"
      ]
     },
     "execution_count": 154,
     "metadata": {},
     "output_type": "execute_result"
    },
    {
     "data": {
      "image/png": "[encoded data removed]",
      "text/plain": [
       "<Figure size 432x288 with 1 Axes>"
      ]
     },
     "metadata": {
      "needs_background": "light"
     },
     "output_type": "display_data"
    }
   ],
   "source": [
    "sns.histplot(log2_transformation_age,kde=True)"
   ]
  },
  {
   "cell_type": "code",
   "execution_count": null,
   "metadata": {},
   "outputs": [],
   "source": []
  },
  {
   "cell_type": "code",
   "execution_count": 151,
   "metadata": {},
   "outputs": [],
   "source": [
    "log_transformation_age = np.log(data['age'])"
   ]
  },
  {
   "cell_type": "code",
   "execution_count": 155,
   "metadata": {},
   "outputs": [
    {
     "data": {
      "text/plain": [
       "<AxesSubplot:xlabel='age', ylabel='Count'>"
      ]
     },
     "execution_count": 155,
     "metadata": {},
     "output_type": "execute_result"
    },
    {
     "data": {
      "image/png": "[encoded data removed]",
      "text/plain": [
       "<Figure size 432x288 with 1 Axes>"
      ]
     },
     "metadata": {
      "needs_background": "light"
     },
     "output_type": "display_data"
    }
   ],
   "source": [
    "sns.histplot(log_transformation_age,kde=True)"
   ]
  },
  {
   "cell_type": "code",
   "execution_count": null,
   "metadata": {},
   "outputs": [],
   "source": []
  },
  {
   "cell_type": "code",
   "execution_count": 156,
   "metadata": {},
   "outputs": [],
   "source": [
    "sq_rt_transformation_age = np.sqrt(data['age'])"
   ]
  },
  {
   "cell_type": "code",
   "execution_count": 157,
   "metadata": {},
   "outputs": [
    {
     "data": {
      "text/plain": [
       "<AxesSubplot:xlabel='age', ylabel='Count'>"
      ]
     },
     "execution_count": 157,
     "metadata": {},
     "output_type": "execute_result"
    },
    {
     "data": {
      "image/png": "[encoded data removed]",
      "text/plain": [
       "<Figure size 432x288 with 1 Axes>"
      ]
     },
     "metadata": {
      "needs_background": "light"
     },
     "output_type": "display_data"
    }
   ],
   "source": [
    "sns.histplot(sq_rt_transformation_age,kde=True)"
   ]
  },
  {
   "cell_type": "code",
   "execution_count": 158,
   "metadata": {},
   "outputs": [],
   "source": [
    "cube_rt_transformation_age = np.cbrt(data['age'])"
   ]
  },
  {
   "cell_type": "code",
   "execution_count": 159,
   "metadata": {},
   "outputs": [
    {
     "data": {
      "text/plain": [
       "<AxesSubplot:xlabel='age', ylabel='Count'>"
      ]
     },
     "execution_count": 159,
     "metadata": {},
     "output_type": "execute_result"
    },
    {
     "data": {
      "image/png": "[encoded data removed]",
      "text/plain": [
       "<Figure size 432x288 with 1 Axes>"
      ]
     },
     "metadata": {
      "needs_background": "light"
     },
     "output_type": "display_data"
    }
   ],
   "source": [
    "sns.histplot(cube_rt_transformation_age,kde=True)"
   ]
  },
  {
   "cell_type": "code",
   "execution_count": 167,
   "metadata": {},
   "outputs": [],
   "source": [
    "exponential_transformation_age = round(np.exp(data['age']),2)"
   ]
  },
  {
   "cell_type": "code",
   "execution_count": 168,
   "metadata": {},
   "outputs": [
    {
     "name": "stdout",
     "output_type": "stream",
     "text": [
      "1.52\n",
      "5.540622384393511e+34\n"
     ]
    }
   ],
   "source": [
    "print(exponential_transformation_age.min())\n",
    "print(exponential_transformation_age.max())"
   ]
  },
  {
   "cell_type": "code",
   "execution_count": 169,
   "metadata": {},
   "outputs": [
    {
     "ename": "ValueError",
     "evalue": "Maximum allowed size exceeded",
     "output_type": "error",
     "traceback": [
      "\u001b[1;31m---------------------------------------------------------------------------\u001b[0m",
      "\u001b[1;31mValueError\u001b[0m                                Traceback (most recent call last)",
      "\u001b[1;32m<ipython-input-169-d6f93ce87e52>\u001b[0m in \u001b[0;36m<module>\u001b[1;34m\u001b[0m\n\u001b[1;32m----> 1\u001b[1;33m \u001b[0msns\u001b[0m\u001b[1;33m.\u001b[0m\u001b[0mhistplot\u001b[0m\u001b[1;33m(\u001b[0m\u001b[0mexponential_transformation_age\u001b[0m\u001b[1;33m)\u001b[0m\u001b[1;33m\u001b[0m\u001b[1;33m\u001b[0m\u001b[0m\n\u001b[0m",
      "\u001b[1;32m~\\anaconda3\\lib\\site-packages\\seaborn\\distributions.py\u001b[0m in \u001b[0;36mhistplot\u001b[1;34m(data, x, y, hue, weights, stat, bins, binwidth, binrange, discrete, cumulative, common_bins, common_norm, multiple, element, fill, shrink, kde, kde_kws, line_kws, thresh, pthresh, pmax, cbar, cbar_ax, cbar_kws, palette, hue_order, hue_norm, color, log_scale, legend, ax, **kwargs)\u001b[0m\n\u001b[0;32m   1420\u001b[0m     \u001b[1;32mif\u001b[0m \u001b[0mp\u001b[0m\u001b[1;33m.\u001b[0m\u001b[0munivariate\u001b[0m\u001b[1;33m:\u001b[0m\u001b[1;33m\u001b[0m\u001b[1;33m\u001b[0m\u001b[0m\n\u001b[0;32m   1421\u001b[0m \u001b[1;33m\u001b[0m\u001b[0m\n\u001b[1;32m-> 1422\u001b[1;33m         p.plot_univariate_histogram(\n\u001b[0m\u001b[0;32m   1423\u001b[0m             \u001b[0mmultiple\u001b[0m\u001b[1;33m=\u001b[0m\u001b[0mmultiple\u001b[0m\u001b[1;33m,\u001b[0m\u001b[1;33m\u001b[0m\u001b[1;33m\u001b[0m\u001b[0m\n\u001b[0;32m   1424\u001b[0m             \u001b[0melement\u001b[0m\u001b[1;33m=\u001b[0m\u001b[0melement\u001b[0m\u001b[1;33m,\u001b[0m\u001b[1;33m\u001b[0m\u001b[1;33m\u001b[0m\u001b[0m\n",
      "\u001b[1;32m~\\anaconda3\\lib\\site-packages\\seaborn\\distributions.py\u001b[0m in \u001b[0;36mplot_univariate_histogram\u001b[1;34m(self, multiple, element, fill, common_norm, common_bins, shrink, kde, kde_kws, color, legend, line_kws, estimate_kws, **plot_kws)\u001b[0m\n\u001b[0;32m    434\u001b[0m \u001b[1;33m\u001b[0m\u001b[0m\n\u001b[0;32m    435\u001b[0m             \u001b[1;31m# Do the histogram computation\u001b[0m\u001b[1;33m\u001b[0m\u001b[1;33m\u001b[0m\u001b[1;33m\u001b[0m\u001b[0m\n\u001b[1;32m--> 436\u001b[1;33m             \u001b[0mheights\u001b[0m\u001b[1;33m,\u001b[0m \u001b[0medges\u001b[0m \u001b[1;33m=\u001b[0m \u001b[0mestimator\u001b[0m\u001b[1;33m(\u001b[0m\u001b[0mobservations\u001b[0m\u001b[1;33m,\u001b[0m \u001b[0mweights\u001b[0m\u001b[1;33m=\u001b[0m\u001b[0mweights\u001b[0m\u001b[1;33m)\u001b[0m\u001b[1;33m\u001b[0m\u001b[1;33m\u001b[0m\u001b[0m\n\u001b[0m\u001b[0;32m    437\u001b[0m \u001b[1;33m\u001b[0m\u001b[0m\n\u001b[0;32m    438\u001b[0m             \u001b[1;31m# Rescale the smoothed curve to match the histogram\u001b[0m\u001b[1;33m\u001b[0m\u001b[1;33m\u001b[0m\u001b[1;33m\u001b[0m\u001b[0m\n",
      "\u001b[1;32m~\\anaconda3\\lib\\site-packages\\seaborn\\_statistics.py\u001b[0m in \u001b[0;36m__call__\u001b[1;34m(self, x1, x2, weights)\u001b[0m\n\u001b[0;32m    369\u001b[0m         \u001b[1;34m\"\"\"Count the occurrances in each bin, maybe normalize.\"\"\"\u001b[0m\u001b[1;33m\u001b[0m\u001b[1;33m\u001b[0m\u001b[0m\n\u001b[0;32m    370\u001b[0m         \u001b[1;32mif\u001b[0m \u001b[0mx2\u001b[0m \u001b[1;32mis\u001b[0m \u001b[1;32mNone\u001b[0m\u001b[1;33m:\u001b[0m\u001b[1;33m\u001b[0m\u001b[1;33m\u001b[0m\u001b[0m\n\u001b[1;32m--> 371\u001b[1;33m             \u001b[1;32mreturn\u001b[0m \u001b[0mself\u001b[0m\u001b[1;33m.\u001b[0m\u001b[0m_eval_univariate\u001b[0m\u001b[1;33m(\u001b[0m\u001b[0mx1\u001b[0m\u001b[1;33m,\u001b[0m \u001b[0mweights\u001b[0m\u001b[1;33m)\u001b[0m\u001b[1;33m\u001b[0m\u001b[1;33m\u001b[0m\u001b[0m\n\u001b[0m\u001b[0;32m    372\u001b[0m         \u001b[1;32melse\u001b[0m\u001b[1;33m:\u001b[0m\u001b[1;33m\u001b[0m\u001b[1;33m\u001b[0m\u001b[0m\n\u001b[0;32m    373\u001b[0m             \u001b[1;32mreturn\u001b[0m \u001b[0mself\u001b[0m\u001b[1;33m.\u001b[0m\u001b[0m_eval_bivariate\u001b[0m\u001b[1;33m(\u001b[0m\u001b[0mx1\u001b[0m\u001b[1;33m,\u001b[0m \u001b[0mx2\u001b[0m\u001b[1;33m,\u001b[0m \u001b[0mweights\u001b[0m\u001b[1;33m)\u001b[0m\u001b[1;33m\u001b[0m\u001b[1;33m\u001b[0m\u001b[0m\n",
      "\u001b[1;32m~\\anaconda3\\lib\\site-packages\\seaborn\\_statistics.py\u001b[0m in \u001b[0;36m_eval_univariate\u001b[1;34m(self, x, weights)\u001b[0m\n\u001b[0;32m    346\u001b[0m         \u001b[0mbin_edges\u001b[0m \u001b[1;33m=\u001b[0m \u001b[0mself\u001b[0m\u001b[1;33m.\u001b[0m\u001b[0mbin_edges\u001b[0m\u001b[1;33m\u001b[0m\u001b[1;33m\u001b[0m\u001b[0m\n\u001b[0;32m    347\u001b[0m         \u001b[1;32mif\u001b[0m \u001b[0mbin_edges\u001b[0m \u001b[1;32mis\u001b[0m \u001b[1;32mNone\u001b[0m\u001b[1;33m:\u001b[0m\u001b[1;33m\u001b[0m\u001b[1;33m\u001b[0m\u001b[0m\n\u001b[1;32m--> 348\u001b[1;33m             \u001b[0mbin_edges\u001b[0m \u001b[1;33m=\u001b[0m \u001b[0mself\u001b[0m\u001b[1;33m.\u001b[0m\u001b[0mdefine_bin_edges\u001b[0m\u001b[1;33m(\u001b[0m\u001b[0mx\u001b[0m\u001b[1;33m,\u001b[0m \u001b[0mweights\u001b[0m\u001b[1;33m=\u001b[0m\u001b[0mweights\u001b[0m\u001b[1;33m,\u001b[0m \u001b[0mcache\u001b[0m\u001b[1;33m=\u001b[0m\u001b[1;32mFalse\u001b[0m\u001b[1;33m)\u001b[0m\u001b[1;33m\u001b[0m\u001b[1;33m\u001b[0m\u001b[0m\n\u001b[0m\u001b[0;32m    349\u001b[0m \u001b[1;33m\u001b[0m\u001b[0m\n\u001b[0;32m    350\u001b[0m         \u001b[0mdensity\u001b[0m \u001b[1;33m=\u001b[0m \u001b[0mself\u001b[0m\u001b[1;33m.\u001b[0m\u001b[0mstat\u001b[0m \u001b[1;33m==\u001b[0m \u001b[1;34m\"density\"\u001b[0m\u001b[1;33m\u001b[0m\u001b[1;33m\u001b[0m\u001b[0m\n",
      "\u001b[1;32m~\\anaconda3\\lib\\site-packages\\seaborn\\_statistics.py\u001b[0m in \u001b[0;36mdefine_bin_edges\u001b[1;34m(self, x1, x2, weights, cache)\u001b[0m\n\u001b[0;32m    263\u001b[0m         \u001b[1;32mif\u001b[0m \u001b[0mx2\u001b[0m \u001b[1;32mis\u001b[0m \u001b[1;32mNone\u001b[0m\u001b[1;33m:\u001b[0m\u001b[1;33m\u001b[0m\u001b[1;33m\u001b[0m\u001b[0m\n\u001b[0;32m    264\u001b[0m \u001b[1;33m\u001b[0m\u001b[0m\n\u001b[1;32m--> 265\u001b[1;33m             bin_edges = self._define_bin_edges(\n\u001b[0m\u001b[0;32m    266\u001b[0m                 \u001b[0mx1\u001b[0m\u001b[1;33m,\u001b[0m \u001b[0mweights\u001b[0m\u001b[1;33m,\u001b[0m \u001b[0mself\u001b[0m\u001b[1;33m.\u001b[0m\u001b[0mbins\u001b[0m\u001b[1;33m,\u001b[0m \u001b[0mself\u001b[0m\u001b[1;33m.\u001b[0m\u001b[0mbinwidth\u001b[0m\u001b[1;33m,\u001b[0m \u001b[0mself\u001b[0m\u001b[1;33m.\u001b[0m\u001b[0mbinrange\u001b[0m\u001b[1;33m,\u001b[0m \u001b[0mself\u001b[0m\u001b[1;33m.\u001b[0m\u001b[0mdiscrete\u001b[0m\u001b[1;33m,\u001b[0m\u001b[1;33m\u001b[0m\u001b[1;33m\u001b[0m\u001b[0m\n\u001b[0;32m    267\u001b[0m             )\n",
      "\u001b[1;32m~\\anaconda3\\lib\\site-packages\\seaborn\\_statistics.py\u001b[0m in \u001b[0;36m_define_bin_edges\u001b[1;34m(self, x, weights, bins, binwidth, binrange, discrete)\u001b[0m\n\u001b[0;32m    254\u001b[0m             \u001b[0mbin_edges\u001b[0m \u001b[1;33m=\u001b[0m \u001b[0mnp\u001b[0m\u001b[1;33m.\u001b[0m\u001b[0marange\u001b[0m\u001b[1;33m(\u001b[0m\u001b[0mstart\u001b[0m\u001b[1;33m,\u001b[0m \u001b[0mstop\u001b[0m \u001b[1;33m+\u001b[0m \u001b[0mstep\u001b[0m\u001b[1;33m,\u001b[0m \u001b[0mstep\u001b[0m\u001b[1;33m)\u001b[0m\u001b[1;33m\u001b[0m\u001b[1;33m\u001b[0m\u001b[0m\n\u001b[0;32m    255\u001b[0m         \u001b[1;32melse\u001b[0m\u001b[1;33m:\u001b[0m\u001b[1;33m\u001b[0m\u001b[1;33m\u001b[0m\u001b[0m\n\u001b[1;32m--> 256\u001b[1;33m             bin_edges = np.histogram_bin_edges(\n\u001b[0m\u001b[0;32m    257\u001b[0m                 \u001b[0mx\u001b[0m\u001b[1;33m,\u001b[0m \u001b[0mbins\u001b[0m\u001b[1;33m,\u001b[0m \u001b[0mbinrange\u001b[0m\u001b[1;33m,\u001b[0m \u001b[0mweights\u001b[0m\u001b[1;33m,\u001b[0m\u001b[1;33m\u001b[0m\u001b[1;33m\u001b[0m\u001b[0m\n\u001b[0;32m    258\u001b[0m             )\n",
      "\u001b[1;32m<__array_function__ internals>\u001b[0m in \u001b[0;36mhistogram_bin_edges\u001b[1;34m(*args, **kwargs)\u001b[0m\n",
      "\u001b[1;32m~\\anaconda3\\lib\\site-packages\\numpy\\lib\\histograms.py\u001b[0m in \u001b[0;36mhistogram_bin_edges\u001b[1;34m(a, bins, range, weights)\u001b[0m\n\u001b[0;32m    666\u001b[0m     \"\"\"\n\u001b[0;32m    667\u001b[0m     \u001b[0ma\u001b[0m\u001b[1;33m,\u001b[0m \u001b[0mweights\u001b[0m \u001b[1;33m=\u001b[0m \u001b[0m_ravel_and_check_weights\u001b[0m\u001b[1;33m(\u001b[0m\u001b[0ma\u001b[0m\u001b[1;33m,\u001b[0m \u001b[0mweights\u001b[0m\u001b[1;33m)\u001b[0m\u001b[1;33m\u001b[0m\u001b[1;33m\u001b[0m\u001b[0m\n\u001b[1;32m--> 668\u001b[1;33m     \u001b[0mbin_edges\u001b[0m\u001b[1;33m,\u001b[0m \u001b[0m_\u001b[0m \u001b[1;33m=\u001b[0m \u001b[0m_get_bin_edges\u001b[0m\u001b[1;33m(\u001b[0m\u001b[0ma\u001b[0m\u001b[1;33m,\u001b[0m \u001b[0mbins\u001b[0m\u001b[1;33m,\u001b[0m \u001b[0mrange\u001b[0m\u001b[1;33m,\u001b[0m \u001b[0mweights\u001b[0m\u001b[1;33m)\u001b[0m\u001b[1;33m\u001b[0m\u001b[1;33m\u001b[0m\u001b[0m\n\u001b[0m\u001b[0;32m    669\u001b[0m     \u001b[1;32mreturn\u001b[0m \u001b[0mbin_edges\u001b[0m\u001b[1;33m\u001b[0m\u001b[1;33m\u001b[0m\u001b[0m\n\u001b[0;32m    670\u001b[0m \u001b[1;33m\u001b[0m\u001b[0m\n",
      "\u001b[1;32m~\\anaconda3\\lib\\site-packages\\numpy\\lib\\histograms.py\u001b[0m in \u001b[0;36m_get_bin_edges\u001b[1;34m(a, bins, range, weights)\u001b[0m\n\u001b[0;32m    444\u001b[0m \u001b[1;33m\u001b[0m\u001b[0m\n\u001b[0;32m    445\u001b[0m         \u001b[1;31m# bin edges must be computed\u001b[0m\u001b[1;33m\u001b[0m\u001b[1;33m\u001b[0m\u001b[1;33m\u001b[0m\u001b[0m\n\u001b[1;32m--> 446\u001b[1;33m         bin_edges = np.linspace(\n\u001b[0m\u001b[0;32m    447\u001b[0m             \u001b[0mfirst_edge\u001b[0m\u001b[1;33m,\u001b[0m \u001b[0mlast_edge\u001b[0m\u001b[1;33m,\u001b[0m \u001b[0mn_equal_bins\u001b[0m \u001b[1;33m+\u001b[0m \u001b[1;36m1\u001b[0m\u001b[1;33m,\u001b[0m\u001b[1;33m\u001b[0m\u001b[1;33m\u001b[0m\u001b[0m\n\u001b[0;32m    448\u001b[0m             endpoint=True, dtype=bin_type)\n",
      "\u001b[1;32m<__array_function__ internals>\u001b[0m in \u001b[0;36mlinspace\u001b[1;34m(*args, **kwargs)\u001b[0m\n",
      "\u001b[1;32m~\\anaconda3\\lib\\site-packages\\numpy\\core\\function_base.py\u001b[0m in \u001b[0;36mlinspace\u001b[1;34m(start, stop, num, endpoint, retstep, dtype, axis)\u001b[0m\n\u001b[0;32m    126\u001b[0m \u001b[1;33m\u001b[0m\u001b[0m\n\u001b[0;32m    127\u001b[0m     \u001b[0mdelta\u001b[0m \u001b[1;33m=\u001b[0m \u001b[0mstop\u001b[0m \u001b[1;33m-\u001b[0m \u001b[0mstart\u001b[0m\u001b[1;33m\u001b[0m\u001b[1;33m\u001b[0m\u001b[0m\n\u001b[1;32m--> 128\u001b[1;33m     \u001b[0my\u001b[0m \u001b[1;33m=\u001b[0m \u001b[0m_nx\u001b[0m\u001b[1;33m.\u001b[0m\u001b[0marange\u001b[0m\u001b[1;33m(\u001b[0m\u001b[1;36m0\u001b[0m\u001b[1;33m,\u001b[0m \u001b[0mnum\u001b[0m\u001b[1;33m,\u001b[0m \u001b[0mdtype\u001b[0m\u001b[1;33m=\u001b[0m\u001b[0mdt\u001b[0m\u001b[1;33m)\u001b[0m\u001b[1;33m.\u001b[0m\u001b[0mreshape\u001b[0m\u001b[1;33m(\u001b[0m\u001b[1;33m(\u001b[0m\u001b[1;33m-\u001b[0m\u001b[1;36m1\u001b[0m\u001b[1;33m,\u001b[0m\u001b[1;33m)\u001b[0m \u001b[1;33m+\u001b[0m \u001b[1;33m(\u001b[0m\u001b[1;36m1\u001b[0m\u001b[1;33m,\u001b[0m\u001b[1;33m)\u001b[0m \u001b[1;33m*\u001b[0m \u001b[0mndim\u001b[0m\u001b[1;33m(\u001b[0m\u001b[0mdelta\u001b[0m\u001b[1;33m)\u001b[0m\u001b[1;33m)\u001b[0m\u001b[1;33m\u001b[0m\u001b[1;33m\u001b[0m\u001b[0m\n\u001b[0m\u001b[0;32m    129\u001b[0m     \u001b[1;31m# In-place multiplication y *= delta/div is faster, but prevents the multiplicant\u001b[0m\u001b[1;33m\u001b[0m\u001b[1;33m\u001b[0m\u001b[1;33m\u001b[0m\u001b[0m\n\u001b[0;32m    130\u001b[0m     \u001b[1;31m# from overriding what class is produced, and thus prevents, e.g. use of Quantities,\u001b[0m\u001b[1;33m\u001b[0m\u001b[1;33m\u001b[0m\u001b[1;33m\u001b[0m\u001b[0m\n",
      "\u001b[1;31mValueError\u001b[0m: Maximum allowed size exceeded"
     ]
    },
    {
     "data": {
      "image/png": "[encoded data removed]",
      "text/plain": [
       "<Figure size 432x288 with 1 Axes>"
      ]
     },
     "metadata": {
      "needs_background": "light"
     },
     "output_type": "display_data"
    }
   ],
   "source": [
    "sns.histplot(exponential_transformation_age)"
   ]
  },
  {
   "cell_type": "code",
   "execution_count": 171,
   "metadata": {},
   "outputs": [],
   "source": [
    "boxcox_transformation_age = stats.boxcox(data['age'])"
   ]
  },
  {
   "cell_type": "code",
   "execution_count": 172,
   "metadata": {},
   "outputs": [
    {
     "name": "stderr",
     "output_type": "stream",
     "text": [
      "C:\\Users\\Satyaki\\anaconda3\\lib\\site-packages\\seaborn\\distributions.py:305: UserWarning: Dataset has 0 variance; skipping density estimate.\n",
      "  warnings.warn(msg, UserWarning)\n"
     ]
    },
    {
     "data": {
      "text/plain": [
       "<AxesSubplot:ylabel='Count'>"
      ]
     },
     "execution_count": 172,
     "metadata": {},
     "output_type": "execute_result"
    },
    {
     "data": {
      "image/png": "[encoded data removed]",
      "text/plain": [
       "<Figure size 432x288 with 1 Axes>"
      ]
     },
     "metadata": {
      "needs_background": "light"
     },
     "output_type": "display_data"
    }
   ],
   "source": [
    "sns.histplot(boxcox_transformation_age,kde=True)"
   ]
  },
  {
   "cell_type": "code",
   "execution_count": 173,
   "metadata": {},
   "outputs": [
    {
     "data": {
      "text/plain": [
       "(array([11.9053813 , 18.49237669, 13.64498393, 17.32379673, 17.32379673,\n",
       "        12.78469428, 24.36747304,  0.90492242, 14.06857988,  8.14471428,\n",
       "         2.41408598, 25.76018405, 11.00483016, 18.87646233,  8.14471428,\n",
       "        24.71811447,  0.90492242, 12.78469428, 15.72379678, 12.78469428,\n",
       "        17.32379673, 16.9285059 ,  8.64086585, 14.48808239,  4.93095881,\n",
       "        18.49237669, 12.78469428, 10.54576331, 12.78469428, 12.78469428,\n",
       "        19.25797489, 12.78469428, 12.78469428, 28.47270897, 14.48808239,\n",
       "        20.01360006, 12.78469428, 11.45791701, 10.08031609,  8.14471428,\n",
       "        19.25797489, 14.06857988, 12.78469428,  1.69317319, 10.54576331,\n",
       "        12.78469428, 12.78469428, 12.78469428, 10.08031609,  4.34111328,\n",
       "        11.45791701, 22.58782975, 14.9036752 , 28.13856475, 12.78469428,\n",
       "        11.45791701, 14.6963566 ,  3.08873652,  6.59607888, 11.9053813 ,\n",
       "        18.49237669, 21.12962551,  2.41408598, 12.78469428, 12.78469428,\n",
       "        14.9036752 , 10.54576331,  9.60803742, 13.64498393, 16.12862763,\n",
       "         9.12841559, 11.45791701, 13.64498393, 16.12862763, 13.21709473,\n",
       "        -0.17408781, 15.31552775, 11.9053813 , 14.9036752 , 12.78469428,\n",
       "        14.48808239,  9.60803742, 16.53015538,  9.12841559, 12.3475439 ,\n",
       "        12.78469428, 14.9036752 , 11.00483016, 21.49725486, 13.64498393,\n",
       "        26.10437577, 30.12404891, 12.3475439 , 16.9285059 , 16.9285059 ,\n",
       "        14.48808239, 11.45791701, 16.53015538, 18.1056322 , 14.48808239,\n",
       "        11.45791701, 12.78469428, 18.49237669, 12.78469428, 21.86279515,\n",
       "         8.39391143, 11.9053813 , 11.00483016,  9.60803742, 11.45791701,\n",
       "        29.96031982, 14.9036752 , 12.78469428,  0.90492242, 11.45791701,\n",
       "        16.32979632, 16.32979632, 24.36747304,  7.12333122, 12.78469428,\n",
       "        12.78469428, 12.78469428, 21.12962551, 16.53015538, 11.00483016,\n",
       "        21.86279515, 13.21709473, 12.3475439 , 10.54576331, 18.1056322 ,\n",
       "         9.12841559, 12.78469428, 12.78469428, 11.9053813 , 12.78469428,\n",
       "        10.54576331, 10.08031609, 10.54576331, 14.06857988,  5.50173598,\n",
       "        17.91123465, 20.01360006, 23.3051464 , 11.9053813 , 24.89280761,\n",
       "        19.44779173, 12.78469428, 23.3051464 ,  9.12841559, 15.31552775,\n",
       "        12.78469428, 12.78469428, 20.75984835, 19.25797489, 13.64498393,\n",
       "         9.60803742,  0.        ,  5.50173598, 12.78469428, 21.12962551,\n",
       "        12.78469428, 14.48808239, 26.78821379,  2.41408598,  0.        ,\n",
       "        25.0670887 , 10.08031609, 12.78469428, 22.94742825, 15.31552775,\n",
       "        17.7161378 , 12.78469428, 12.78469428,  5.50173598,  0.        ,\n",
       "         2.41408598, 12.78469428, 12.78469428, 21.12962551, 19.25797489,\n",
       "        17.7161378 , 16.12862763, 10.54576331, 10.54576331,  1.69317319,\n",
       "        20.75984835, 25.76018405, 20.01360006, 12.78469428, 14.48808239,\n",
       "        16.9285059 , 21.31370492, 10.08031609,  0.90492242, 16.12862763,\n",
       "        13.64498393,  9.12841559, 19.25797489, 12.78469428, 17.32379673,\n",
       "        11.9053813 , 12.78469428, 15.72379678, 14.06857988, 20.01360006,\n",
       "        16.12862763, 15.31552775,  9.12841559, 14.06857988, 23.3051464 ,\n",
       "        18.49237669, 11.9053813 , 10.54576331, 11.23209782, 10.08031609,\n",
       "        12.78469428, 17.32379673, 14.9036752 , 26.10437577,  3.08873652,\n",
       "        12.78469428, 12.78469428, 20.75984835,  4.93095881, 10.54576331,\n",
       "        16.53015538, 12.78469428, 14.9036752 , 11.9053813 , 15.31552775,\n",
       "        20.75984835, 13.21709473, 12.78469428, 18.1056322 , 24.36747304,\n",
       "        12.78469428, 14.9036752 , 27.12792297, 15.31552775, 19.6369953 ,\n",
       "        14.9036752 , 12.78469428, 15.31552775, 17.32379673, 22.94742825,\n",
       "         1.69317319, 23.66103063, 19.25797489, 12.78469428, 17.7161378 ,\n",
       "         9.12841559, 13.21709473, 25.76018405, 17.32379673, 12.78469428,\n",
       "        13.21709473, 19.6369953 , 18.1056322 , 27.46619891, 21.12962551,\n",
       "        12.78469428,  4.34111328, 17.32379673, 28.13856475, 14.48808239,\n",
       "         9.12841559, 10.54576331, 12.78469428, 16.53015538, 15.31552775,\n",
       "        11.9053813 , 20.01360006, 11.9053813 , 13.64498393, 10.54576331,\n",
       "        17.7161378 , 12.78469428, 12.78469428, 12.56672863,  0.90492242,\n",
       "        12.78469428, 22.94742825, 12.78469428, 10.54576331, 12.78469428,\n",
       "        -0.08086835, 12.78469428,  9.60803742, 15.31552775, 15.31552775,\n",
       "        12.78469428, 10.08031609, 13.64498393, 20.38786155, 13.64498393,\n",
       "        12.78469428, 24.36747304, 15.72379678, 19.25797489, 14.06857988,\n",
       "        15.31552775, 11.9053813 , 17.7161378 , 26.78821379, 17.7161378 ,\n",
       "        15.72379678,  9.12841559, 12.78469428, 21.31370492, 18.49237669,\n",
       "         9.12841559, 12.78469428, 14.9036752 , 19.6369953 , 21.12962551,\n",
       "        21.12962551,  0.90492242, 12.78469428, 14.48808239, 17.7161378 ,\n",
       "        12.78469428, 19.25797489, 12.78469428,  1.69317319, 20.01360006,\n",
       "        12.3475439 , 12.78469428,  8.64086585, 13.21709473, 11.9053813 ,\n",
       "        18.49237669, 19.25797489, 14.9036752 , 21.12962551, 17.32379673,\n",
       "        15.31552775, 26.44704168, 12.78469428, 12.78469428, 13.21709473,\n",
       "        10.08031609, 10.54576331, 11.9053813 ,  1.69317319, 12.78469428,\n",
       "        11.9053813 , 14.06857988, 11.00483016, 10.54576331, 20.01360006,\n",
       "         0.        , 16.12862763, 17.32379673, 10.08031609,  0.        ,\n",
       "        17.7161378 , 12.78469428,  9.60803742, 17.7161378 , 11.45791701,\n",
       "        14.48808239, 12.3475439 , 12.78469428, 11.9053813 , 15.72379678,\n",
       "        21.49725486, 12.3475439 , 14.48808239, 18.87646233, 13.64498393,\n",
       "        11.45791701, 14.48808239, 11.00483016, 16.9285059 , 23.3051464 ,\n",
       "         1.69317319, 11.45791701, 12.78469428, 16.53015538, 20.75984835,\n",
       "        12.78469428, 16.9285059 , 10.08031609,  6.05609174, 11.45791701,\n",
       "        14.9036752 , 14.48808239, 10.08031609, 14.48808239, 10.54576331,\n",
       "        16.12862763, 14.48808239, 20.01360006,  9.60803742, 22.94742825,\n",
       "         8.14471428, 11.45791701, 12.78469428, 27.8030703 , 15.72379678,\n",
       "        21.12962551, 11.00483016, 13.21709473, 14.48808239, 12.78469428,\n",
       "         2.41408598,  7.63917683, 16.9285059 ,  3.08873652, 23.66103063,\n",
       "        17.7161378 , 12.78469428, 15.31552775, 22.58782975, 14.9036752 ,\n",
       "        28.13856475, 12.78469428, 22.94742825, 22.22630234, 16.9285059 ,\n",
       "        21.86279515, 22.22630234, 18.49237669, 25.0670887 , 12.78469428,\n",
       "        -0.25919869, 18.49237669, 16.53015538, 12.3475439 , 11.9053813 ,\n",
       "        12.78469428, 14.9036752 , 11.9053813 ,  0.90492242,  5.50173598,\n",
       "        22.94742825, 27.46619891, 13.21709473, 17.32379673, 25.76018405,\n",
       "         5.50173598, 11.45791701, 24.71811447, 30.12404891, 12.78469428,\n",
       "        24.36747304, 12.78469428, 13.21709473, 12.78469428, 11.45791701,\n",
       "        12.78469428, 18.1056322 ,  9.12841559, 10.08031609, 16.53015538,\n",
       "        12.78469428, 14.48808239, 13.64498393, 14.9036752 , 17.7161378 ,\n",
       "        24.36747304, 12.78469428, 21.86279515, 16.9285059 , 12.78469428,\n",
       "        17.7161378 , 16.12862763, 15.31552775, 20.75984835, 12.78469428,\n",
       "        19.44779173, 12.78469428, 18.87646233, 12.3475439 ,  0.90492242,\n",
       "         9.60803742, 12.78469428, 15.31552775,  4.34111328, 21.12962551,\n",
       "        15.31552775, 12.78469428, 11.9053813 , 17.7161378 ,  5.50173598,\n",
       "         6.59607888, 16.12862763, 22.94742825, 27.8030703 , 10.54576331,\n",
       "        12.78469428, 16.53015538,  4.93095881,  9.60803742, 14.06857988,\n",
       "        12.78469428, 11.9053813 , 11.9053813 , 27.12792297, 22.22630234,\n",
       "        12.78469428, 18.87646233, 17.7161378 , 19.25797489, 14.48808239,\n",
       "        12.78469428, 10.54576331, 14.9036752 , 16.12862763, 27.12792297,\n",
       "        24.01512533, 17.7161378 ,  9.12841559, 10.54576331, 16.9285059 ,\n",
       "        18.87646233, 12.78469428, 16.12862763, 13.21709473, 18.87646233,\n",
       "        24.36747304, 17.7161378 , 12.78469428, 10.08031609, 21.86279515,\n",
       "        26.44704168, 17.32379673, 23.66103063, 21.86279515, 12.78469428,\n",
       "        18.1056322 , 17.7161378 , 12.78469428, 22.58782975, 22.58782975,\n",
       "        12.78469428, 12.78469428, 20.75984835, 17.32379673, 17.7161378 ,\n",
       "        15.31552775, 14.06857988, 11.9053813 , 19.25797489, 18.87646233,\n",
       "        12.78469428, 12.78469428, 16.9285059 , 13.64498393,  2.41408598,\n",
       "        13.64498393, 14.06857988, 20.01360006, 11.00483016, 11.45791701,\n",
       "        11.45791701, 26.78821379, 25.41443323, 11.45791701, 13.64498393,\n",
       "        12.78469428, 33.02196723, 23.3051464 , 16.12862763, 12.78469428,\n",
       "         5.50173598, 15.72379678, 19.6369953 , 12.78469428,  0.90492242,\n",
       "        12.78469428, 22.22630234, 25.0670887 , 12.78469428, 12.3475439 ,\n",
       "        10.08031609, 11.45791701, 12.78469428, 10.08031609, 12.78469428,\n",
       "        16.12862763, 12.3475439 , 25.76018405, 22.94742825, 19.25797489,\n",
       "        21.86279515, 17.7161378 , 11.00483016, 16.12862763, 12.78469428,\n",
       "        20.38786155, 12.78469428, 19.25797489, 15.72379678, 29.79628608,\n",
       "        15.72379678, 10.08031609, 13.00147281, 10.08031609, 20.38786155,\n",
       "        17.7161378 , 12.78469428, 14.06857988, 11.00483016,  8.14471428,\n",
       "        26.44704168, 13.21709473,  8.14471428, 10.54576331, 10.08031609,\n",
       "         8.64086585, 15.72379678,  2.41408598, 13.21709473, 26.44704168,\n",
       "        23.66103063, 12.78469428, 22.58782975, 20.01360006, 10.08031609,\n",
       "        17.32379673, 10.08031609, 13.21709473, 13.64498393, 18.87646233,\n",
       "        21.12962551, 20.01360006, 11.9053813 , 12.78469428, 12.78469428,\n",
       "        22.22630234, 14.9036752 , 23.66103063, 10.54576331, 18.49237669,\n",
       "        14.06857988, 12.78469428, 16.53015538,  3.72867308,  9.60803742,\n",
       "        16.9285059 , 22.94742825, 14.06857988, 11.00483016, 15.31552775,\n",
       "        12.78469428, 13.21709473, 13.21709473, 14.9036752 ,  6.59607888,\n",
       "        14.6963566 , 22.22630234, 17.32379673, 12.78469428, 17.7161378 ,\n",
       "        11.45791701, 12.78469428, 15.72379678, 29.79628608,  9.12841559,\n",
       "        15.31552775, 10.54576331, 15.72379678,  2.41408598,  3.72867308,\n",
       "        16.53015538, 12.3475439 , 22.22630234, -0.34672805, 14.48808239,\n",
       "        16.53015538, 19.6369953 , 11.00483016, 17.7161378 ,  9.12841559,\n",
       "        23.3051464 , 12.78469428, 15.52010087, 12.78469428, 16.12862763,\n",
       "        12.78469428, 22.22630234, 25.41443323, 24.36747304, 10.08031609,\n",
       "        12.78469428,  3.08873652, 12.78469428, 20.38786155,  7.63917683,\n",
       "         9.60803742, 14.9036752 , 12.78469428, 13.21709473, 13.21709473,\n",
       "        10.08031609,  4.93095881,  0.        , 21.49725486,  9.12841559,\n",
       "        12.78469428, 13.21709473, 18.87646233, 22.58782975, 15.72379678,\n",
       "        15.31552775, 15.31552775, 15.72379678,  6.59607888, -0.6407081 ,\n",
       "        14.06857988, 15.72379678, 18.87646233, 10.08031609, 16.53015538,\n",
       "        13.64498393, 18.87646233, 17.32379673,  3.72867308, 15.52010087,\n",
       "        12.78469428, 12.3475439 , 15.72379678, 20.38786155,  6.05609174,\n",
       "        23.66103063, 14.06857988, 18.49237669, 14.06857988,  0.90492242,\n",
       "        12.78469428, 12.78469428,  0.        , 12.78469428, 27.12792297,\n",
       "         8.64086585, -0.17408781, 12.3475439 , 10.08031609, 18.87646233,\n",
       "        11.45791701, 12.78469428, 11.00483016,  9.12841559, 15.31552775,\n",
       "        17.12652674, 20.01360006, 17.32379673, 14.48808239, 12.78469428,\n",
       "         2.41408598, 31.10017421,  5.50173598,  9.12841559, 20.75984835,\n",
       "        10.08031609, 21.12962551, 23.3051464 , 12.78469428, 19.6369953 ,\n",
       "        11.45791701, 22.22630234, 12.78469428, 20.01360006, 14.06857988,\n",
       "        15.72379678, 12.78469428,  2.41408598, 21.86279515, 16.53015538,\n",
       "        21.86279515, 14.48808239,  8.64086585, 11.00483016, 25.0670887 ,\n",
       "        13.21709473, 16.53015538, 11.9053813 , 14.48808239, 18.87646233,\n",
       "        10.54576331, 12.78469428, 13.64498393, 16.12862763]),\n",
       " 0.7378831507101759)"
      ]
     },
     "execution_count": 173,
     "metadata": {},
     "output_type": "execute_result"
    }
   ],
   "source": [
    "boxcox_transformation_age"
   ]
  },
  {
   "cell_type": "code",
   "execution_count": 183,
   "metadata": {},
   "outputs": [],
   "source": [
    "age_transform,l = stats.yeojohnson(data['age'])"
   ]
  },
  {
   "cell_type": "code",
   "execution_count": 184,
   "metadata": {},
   "outputs": [],
   "source": [
    "age_transform_1,l_1 = stats.yeojohnson(age_transform)"
   ]
  },
  {
   "cell_type": "code",
   "execution_count": 185,
   "metadata": {},
   "outputs": [
    {
     "name": "stdout",
     "output_type": "stream",
     "text": [
      "0.725893337729818 0.9975283552527535\n"
     ]
    }
   ],
   "source": [
    "print(l,l_1)"
   ]
  },
  {
   "cell_type": "code",
   "execution_count": 186,
   "metadata": {},
   "outputs": [],
   "source": [
    "age_transform_2,l_2 = stats.yeojohnson(age_transform_1)"
   ]
  },
  {
   "cell_type": "code",
   "execution_count": 187,
   "metadata": {},
   "outputs": [
    {
     "name": "stdout",
     "output_type": "stream",
     "text": [
      "0.9975283552527535 0.9999803938877794\n"
     ]
    }
   ],
   "source": [
    "print(l_1,l_2)"
   ]
  },
  {
   "cell_type": "code",
   "execution_count": null,
   "metadata": {},
   "outputs": [],
   "source": []
  },
  {
   "cell_type": "code",
   "execution_count": null,
   "metadata": {},
   "outputs": [],
   "source": []
  },
  {
   "cell_type": "code",
   "execution_count": null,
   "metadata": {},
   "outputs": [],
   "source": []
  },
  {
   "cell_type": "code",
   "execution_count": 175,
   "metadata": {},
   "outputs": [
    {
     "data": {
      "text/plain": [
       "(array([12.03756248, 18.30443972, 13.69347528, 17.19345198, 17.19345198,\n",
       "        12.87460749, 23.88305747,  1.68059027, 14.0966355 ,  8.45896421,\n",
       "         3.05341886, 25.20372692, 11.18029715, 18.66950131,  8.45896421,\n",
       "        24.21562491,  1.68059027, 12.87460749, 15.67164703, 12.87460749,\n",
       "        17.19345198, 16.81754785,  8.93075392, 14.49586729,  5.41138184,\n",
       "        18.30443972, 12.87460749, 10.74332418, 12.87460749, 12.87460749,\n",
       "        19.03206952, 12.87460749, 12.87460749, 27.77400907, 14.49586729,\n",
       "        19.75003057, 12.87460749, 11.61160108, 10.30031825,  8.45896421,\n",
       "        19.03206952, 14.0966355 , 12.87460749,  2.39080042, 10.74332418,\n",
       "        12.87460749, 12.87460749, 12.87460749, 10.30031825,  4.85505802,\n",
       "        11.61160108, 22.19448289, 14.89134249, 27.45752353, 12.87460749,\n",
       "        11.61160108, 14.69406425,  3.68042409,  6.98799814, 12.03756248,\n",
       "        18.30443972, 20.81007368,  3.05341886, 12.87460749, 12.87460749,\n",
       "        14.89134249, 10.74332418,  9.85087149, 13.69347528, 16.05676048,\n",
       "         9.39452403, 11.61160108, 13.69347528, 16.05676048, 13.28620021,\n",
       "         0.75857128, 15.28321998, 12.03756248, 14.89134249, 12.87460749,\n",
       "        14.49586729,  9.85087149, 16.43868777,  9.39452403, 12.45847574,\n",
       "        12.87460749, 14.89134249, 11.18029715, 21.15916814, 13.69347528,\n",
       "        25.53001023, 29.3375254 , 12.45847574, 16.81754785, 16.81754785,\n",
       "        14.49586729, 11.61160108, 16.43868777, 17.93680297, 14.49586729,\n",
       "        11.61160108, 12.87460749, 18.30443972, 12.87460749, 21.50623242,\n",
       "         8.69590217, 12.03756248, 11.18029715,  9.85087149, 11.61160108,\n",
       "        29.18254486, 14.89134249, 12.87460749,  1.68059027, 11.61160108,\n",
       "        16.24811477, 16.24811477, 23.88305747,  7.48845901, 12.87460749,\n",
       "        12.87460749, 12.87460749, 20.81007368, 16.43868777, 11.18029715,\n",
       "        21.50623242, 13.28620021, 12.45847574, 10.74332418, 17.93680297,\n",
       "         9.39452403, 12.87460749, 12.87460749, 12.03756248, 12.87460749,\n",
       "        10.74332418, 10.30031825, 10.74332418, 14.0966355 ,  5.95097885,\n",
       "        17.75199203, 19.75003057, 22.87522616, 12.03756248, 24.38129734,\n",
       "        19.21244291, 12.87460749, 22.87522616,  9.39452403, 15.28321998,\n",
       "        12.87460749, 12.87460749, 20.45889262, 19.03206952, 13.69347528,\n",
       "         9.85087149,  0.90085474,  5.95097885, 12.87460749, 20.81007368,\n",
       "        12.87460749, 14.49586729, 26.17814599,  3.05341886,  0.90085474,\n",
       "        24.54656839, 10.30031825, 12.87460749, 22.53576928, 15.28321998,\n",
       "        17.5665044 , 12.87460749, 12.87460749,  5.95097885,  0.90085474,\n",
       "         3.05341886, 12.87460749, 12.87460749, 20.81007368, 19.03206952,\n",
       "        17.5665044 , 16.05676048, 10.74332418, 10.74332418,  2.39080042,\n",
       "        20.45889262, 25.20372692, 19.75003057, 12.87460749, 14.49586729,\n",
       "        16.81754785, 20.98487815, 10.30031825,  1.68059027, 16.05676048,\n",
       "        13.69347528,  9.39452403, 19.03206952, 12.87460749, 17.19345198,\n",
       "        12.03756248, 12.87460749, 15.67164703, 14.0966355 , 19.75003057,\n",
       "        16.05676048, 15.28321998,  9.39452403, 14.0966355 , 22.87522616,\n",
       "        18.30443972, 12.03756248, 10.74332418, 11.39663652, 10.30031825,\n",
       "        12.87460749, 17.19345198, 14.89134249, 25.53001023,  3.68042409,\n",
       "        12.87460749, 12.87460749, 20.45889262,  5.41138184, 10.74332418,\n",
       "        16.43868777, 12.87460749, 14.89134249, 12.03756248, 15.28321998,\n",
       "        20.45889262, 13.28620021, 12.87460749, 17.93680297, 23.88305747,\n",
       "        12.87460749, 14.89134249, 26.50005931, 15.28321998, 19.39222159,\n",
       "        14.89134249, 12.87460749, 15.28321998, 17.19345198, 22.53576928,\n",
       "         2.39080042, 23.21289825, 19.03206952, 12.87460749, 17.5665044 ,\n",
       "         9.39452403, 13.28620021, 25.20372692, 17.19345198, 12.87460749,\n",
       "        13.28620021, 19.39222159, 17.93680297, 26.82057499, 20.81007368,\n",
       "        12.87460749,  4.85505802, 17.19345198, 27.45752353, 14.49586729,\n",
       "         9.39452403, 10.74332418, 12.87460749, 16.43868777, 15.28321998,\n",
       "        12.03756248, 19.75003057, 12.03756248, 13.69347528, 10.74332418,\n",
       "        17.5665044 , 12.87460749, 12.87460749, 12.66712362,  1.68059027,\n",
       "        12.87460749, 22.53576928, 12.87460749, 10.74332418, 12.87460749,\n",
       "         0.83432877, 12.87460749,  9.85087149, 15.28321998, 15.28321998,\n",
       "        12.87460749, 10.30031825, 13.69347528, 20.1055657 , 13.69347528,\n",
       "        12.87460749, 23.88305747, 15.67164703, 19.03206952, 14.0966355 ,\n",
       "        15.28321998, 12.03756248, 17.5665044 , 26.17814599, 17.5665044 ,\n",
       "        15.67164703,  9.39452403, 12.87460749, 20.98487815, 18.30443972,\n",
       "         9.39452403, 12.87460749, 14.89134249, 19.39222159, 20.81007368,\n",
       "        20.81007368,  1.68059027, 12.87460749, 14.49586729, 17.5665044 ,\n",
       "        12.87460749, 19.03206952, 12.87460749,  2.39080042, 19.75003057,\n",
       "        12.45847574, 12.87460749,  8.93075392, 13.28620021, 12.03756248,\n",
       "        18.30443972, 19.03206952, 14.89134249, 20.81007368, 17.19345198,\n",
       "        15.28321998, 25.85480625, 12.87460749, 12.87460749, 13.28620021,\n",
       "        10.30031825, 10.74332418, 12.03756248,  2.39080042, 12.87460749,\n",
       "        12.03756248, 14.0966355 , 11.18029715, 10.74332418, 19.75003057,\n",
       "         0.90085474, 16.05676048, 17.19345198, 10.30031825,  0.90085474,\n",
       "        17.5665044 , 12.87460749,  9.85087149, 17.5665044 , 11.61160108,\n",
       "        14.49586729, 12.45847574, 12.87460749, 12.03756248, 15.67164703,\n",
       "        21.15916814, 12.45847574, 14.49586729, 18.66950131, 13.69347528,\n",
       "        11.61160108, 14.49586729, 11.18029715, 16.81754785, 22.87522616,\n",
       "         2.39080042, 11.61160108, 12.87460749, 16.43868777, 20.45889262,\n",
       "        12.87460749, 16.81754785, 10.30031825,  6.47595863, 11.61160108,\n",
       "        14.89134249, 14.49586729, 10.30031825, 14.49586729, 10.74332418,\n",
       "        16.05676048, 14.49586729, 19.75003057,  9.85087149, 22.53576928,\n",
       "         8.45896421, 11.61160108, 12.87460749, 27.1397208 , 15.67164703,\n",
       "        20.81007368, 11.18029715, 13.28620021, 14.49586729, 12.87460749,\n",
       "         3.05341886,  7.97846645, 16.81754785,  3.68042409, 23.21289825,\n",
       "        17.5665044 , 12.87460749, 15.28321998, 22.19448289, 14.89134249,\n",
       "        27.45752353, 12.87460749, 22.53576928, 21.85132025, 16.81754785,\n",
       "        21.50623242, 21.85132025, 18.30443972, 24.54656839, 12.87460749,\n",
       "         0.69036978, 18.30443972, 16.43868777, 12.45847574, 12.03756248,\n",
       "        12.87460749, 14.89134249, 12.03756248,  1.68059027,  5.95097885,\n",
       "        22.53576928, 26.82057499, 13.28620021, 17.19345198, 25.20372692,\n",
       "         5.95097885, 11.61160108, 24.21562491, 29.3375254 , 12.87460749,\n",
       "        23.88305747, 12.87460749, 13.28620021, 12.87460749, 11.61160108,\n",
       "        12.87460749, 17.93680297,  9.39452403, 10.30031825, 16.43868777,\n",
       "        12.87460749, 14.49586729, 13.69347528, 14.89134249, 17.5665044 ,\n",
       "        23.88305747, 12.87460749, 21.50623242, 16.81754785, 12.87460749,\n",
       "        17.5665044 , 16.05676048, 15.28321998, 20.45889262, 12.87460749,\n",
       "        19.21244291, 12.87460749, 18.66950131, 12.45847574,  1.68059027,\n",
       "         9.85087149, 12.87460749, 15.28321998,  4.85505802, 20.81007368,\n",
       "        15.28321998, 12.87460749, 12.03756248, 17.5665044 ,  5.95097885,\n",
       "         6.98799814, 16.05676048, 22.53576928, 27.1397208 , 10.74332418,\n",
       "        12.87460749, 16.43868777,  5.41138184,  9.85087149, 14.0966355 ,\n",
       "        12.87460749, 12.03756248, 12.03756248, 26.50005931, 21.85132025,\n",
       "        12.87460749, 18.66950131, 17.5665044 , 19.03206952, 14.49586729,\n",
       "        12.87460749, 10.74332418, 14.89134249, 16.05676048, 26.50005931,\n",
       "        23.54882835, 17.5665044 ,  9.39452403, 10.74332418, 16.81754785,\n",
       "        18.66950131, 12.87460749, 16.05676048, 13.28620021, 18.66950131,\n",
       "        23.88305747, 17.5665044 , 12.87460749, 10.30031825, 21.50623242,\n",
       "        25.85480625, 17.19345198, 23.21289825, 21.50623242, 12.87460749,\n",
       "        17.93680297, 17.5665044 , 12.87460749, 22.19448289, 22.19448289,\n",
       "        12.87460749, 12.87460749, 20.45889262, 17.19345198, 17.5665044 ,\n",
       "        15.28321998, 14.0966355 , 12.03756248, 19.03206952, 18.66950131,\n",
       "        12.87460749, 12.87460749, 16.81754785, 13.69347528,  3.05341886,\n",
       "        13.69347528, 14.0966355 , 19.75003057, 11.18029715, 11.61160108,\n",
       "        11.61160108, 26.17814599, 24.87592412, 11.61160108, 13.69347528,\n",
       "        12.87460749, 32.07913704, 22.87522616, 16.05676048, 12.87460749,\n",
       "         5.95097885, 15.67164703, 19.39222159, 12.87460749,  1.68059027,\n",
       "        12.87460749, 21.85132025, 24.54656839, 12.87460749, 12.45847574,\n",
       "        10.30031825, 11.61160108, 12.87460749, 10.30031825, 12.87460749,\n",
       "        16.05676048, 12.45847574, 25.20372692, 22.53576928, 19.03206952,\n",
       "        21.50623242, 17.5665044 , 11.18029715, 16.05676048, 12.87460749,\n",
       "        20.1055657 , 12.87460749, 19.03206952, 15.67164703, 29.02726697,\n",
       "        15.67164703, 10.30031825, 13.08095693, 10.30031825, 20.1055657 ,\n",
       "        17.5665044 , 12.87460749, 14.0966355 , 11.18029715,  8.45896421,\n",
       "        25.85480625, 13.28620021,  8.45896421, 10.74332418, 10.30031825,\n",
       "         8.93075392, 15.67164703,  3.05341886, 13.28620021, 25.85480625,\n",
       "        23.21289825, 12.87460749, 22.19448289, 19.75003057, 10.30031825,\n",
       "        17.19345198, 10.30031825, 13.28620021, 13.69347528, 18.66950131,\n",
       "        20.81007368, 19.75003057, 12.03756248, 12.87460749, 12.87460749,\n",
       "        21.85132025, 14.89134249, 23.21289825, 10.74332418, 18.30443972,\n",
       "        14.0966355 , 12.87460749, 16.43868777,  4.27928355,  9.85087149,\n",
       "        16.81754785, 22.53576928, 14.0966355 , 11.18029715, 15.28321998,\n",
       "        12.87460749, 13.28620021, 13.28620021, 14.89134249,  6.98799814,\n",
       "        14.69406425, 21.85132025, 17.19345198, 12.87460749, 17.5665044 ,\n",
       "        11.61160108, 12.87460749, 15.67164703, 29.02726697,  9.39452403,\n",
       "        15.28321998, 10.74332418, 15.67164703,  3.05341886,  4.27928355,\n",
       "        16.43868777, 12.45847574, 21.85132025,  0.62130796, 14.49586729,\n",
       "        16.43868777, 19.39222159, 11.18029715, 17.5665044 ,  9.39452403,\n",
       "        22.87522616, 12.87460749, 15.47785603, 12.87460749, 16.05676048,\n",
       "        12.87460749, 21.85132025, 24.87592412, 23.88305747, 10.30031825,\n",
       "        12.87460749,  3.68042409, 12.87460749, 20.1055657 ,  7.97846645,\n",
       "         9.85087149, 14.89134249, 12.87460749, 13.28620021, 13.28620021,\n",
       "        10.30031825,  5.41138184,  0.90085474, 21.15916814,  9.39452403,\n",
       "        12.87460749, 13.28620021, 18.66950131, 22.19448289, 15.67164703,\n",
       "        15.28321998, 15.28321998, 15.67164703,  6.98799814,  0.39932517,\n",
       "        14.0966355 , 15.67164703, 18.66950131, 10.30031825, 16.43868777,\n",
       "        13.69347528, 18.66950131, 17.19345198,  4.27928355, 15.47785603,\n",
       "        12.87460749, 12.45847574, 15.67164703, 20.1055657 ,  6.47595863,\n",
       "        23.21289825, 14.0966355 , 18.30443972, 14.0966355 ,  1.68059027,\n",
       "        12.87460749, 12.87460749,  0.90085474, 12.87460749, 26.50005931,\n",
       "         8.93075392,  0.75857128, 12.45847574, 10.30031825, 18.66950131,\n",
       "        11.61160108, 12.87460749, 11.18029715,  9.39452403, 15.28321998,\n",
       "        17.00586274, 19.75003057, 17.19345198, 14.49586729, 12.87460749,\n",
       "         3.05341886, 30.26130846,  5.95097885,  9.39452403, 20.45889262,\n",
       "        10.30031825, 20.81007368, 22.87522616, 12.87460749, 19.39222159,\n",
       "        11.61160108, 21.85132025, 12.87460749, 19.75003057, 14.0966355 ,\n",
       "        15.67164703, 12.87460749,  3.05341886, 21.50623242, 16.43868777,\n",
       "        21.50623242, 14.49586729,  8.93075392, 11.18029715, 24.54656839,\n",
       "        13.28620021, 16.43868777, 12.03756248, 14.49586729, 18.66950131,\n",
       "        10.74332418, 12.87460749, 13.69347528, 16.05676048]),\n",
       " 0.725893337729818)"
      ]
     },
     "execution_count": 175,
     "metadata": {},
     "output_type": "execute_result"
    }
   ],
   "source": [
    "yeojohnson_transformation_age"
   ]
  },
  {
   "cell_type": "code",
   "execution_count": 176,
   "metadata": {},
   "outputs": [
    {
     "name": "stderr",
     "output_type": "stream",
     "text": [
      "C:\\Users\\Satyaki\\anaconda3\\lib\\site-packages\\seaborn\\distributions.py:305: UserWarning: Dataset has 0 variance; skipping density estimate.\n",
      "  warnings.warn(msg, UserWarning)\n"
     ]
    },
    {
     "data": {
      "text/plain": [
       "<AxesSubplot:ylabel='Count'>"
      ]
     },
     "execution_count": 176,
     "metadata": {},
     "output_type": "execute_result"
    },
    {
     "data": {
      "image/png": "[encoded data removed]",
      "text/plain": [
       "<Figure size 432x288 with 1 Axes>"
      ]
     },
     "metadata": {
      "needs_background": "light"
     },
     "output_type": "display_data"
    }
   ],
   "source": [
    "sns.histplot(yeojohnson_transformation_age,kde=True)"
   ]
  },
  {
   "cell_type": "code",
   "execution_count": 180,
   "metadata": {},
   "outputs": [
    {
     "data": {
      "text/plain": [
       "array([12.03756248, 18.30443972, 13.69347528, 17.19345198, 17.19345198,\n",
       "       12.87460749, 23.88305747,  1.68059027, 14.0966355 ,  8.45896421,\n",
       "        3.05341886, 25.20372692, 11.18029715, 18.66950131,  8.45896421,\n",
       "       24.21562491,  1.68059027, 12.87460749, 15.67164703, 12.87460749,\n",
       "       17.19345198, 16.81754785,  8.93075392, 14.49586729,  5.41138184,\n",
       "       18.30443972, 12.87460749, 10.74332418, 12.87460749, 12.87460749,\n",
       "       19.03206952, 12.87460749, 12.87460749, 27.77400907, 14.49586729,\n",
       "       19.75003057, 12.87460749, 11.61160108, 10.30031825,  8.45896421,\n",
       "       19.03206952, 14.0966355 , 12.87460749,  2.39080042, 10.74332418,\n",
       "       12.87460749, 12.87460749, 12.87460749, 10.30031825,  4.85505802,\n",
       "       11.61160108, 22.19448289, 14.89134249, 27.45752353, 12.87460749,\n",
       "       11.61160108, 14.69406425,  3.68042409,  6.98799814, 12.03756248,\n",
       "       18.30443972, 20.81007368,  3.05341886, 12.87460749, 12.87460749,\n",
       "       14.89134249, 10.74332418,  9.85087149, 13.69347528, 16.05676048,\n",
       "        9.39452403, 11.61160108, 13.69347528, 16.05676048, 13.28620021,\n",
       "        0.75857128, 15.28321998, 12.03756248, 14.89134249, 12.87460749,\n",
       "       14.49586729,  9.85087149, 16.43868777,  9.39452403, 12.45847574,\n",
       "       12.87460749, 14.89134249, 11.18029715, 21.15916814, 13.69347528,\n",
       "       25.53001023, 29.3375254 , 12.45847574, 16.81754785, 16.81754785,\n",
       "       14.49586729, 11.61160108, 16.43868777, 17.93680297, 14.49586729,\n",
       "       11.61160108, 12.87460749, 18.30443972, 12.87460749, 21.50623242,\n",
       "        8.69590217, 12.03756248, 11.18029715,  9.85087149, 11.61160108,\n",
       "       29.18254486, 14.89134249, 12.87460749,  1.68059027, 11.61160108,\n",
       "       16.24811477, 16.24811477, 23.88305747,  7.48845901, 12.87460749,\n",
       "       12.87460749, 12.87460749, 20.81007368, 16.43868777, 11.18029715,\n",
       "       21.50623242, 13.28620021, 12.45847574, 10.74332418, 17.93680297,\n",
       "        9.39452403, 12.87460749, 12.87460749, 12.03756248, 12.87460749,\n",
       "       10.74332418, 10.30031825, 10.74332418, 14.0966355 ,  5.95097885,\n",
       "       17.75199203, 19.75003057, 22.87522616, 12.03756248, 24.38129734,\n",
       "       19.21244291, 12.87460749, 22.87522616,  9.39452403, 15.28321998,\n",
       "       12.87460749, 12.87460749, 20.45889262, 19.03206952, 13.69347528,\n",
       "        9.85087149,  0.90085474,  5.95097885, 12.87460749, 20.81007368,\n",
       "       12.87460749, 14.49586729, 26.17814599,  3.05341886,  0.90085474,\n",
       "       24.54656839, 10.30031825, 12.87460749, 22.53576928, 15.28321998,\n",
       "       17.5665044 , 12.87460749, 12.87460749,  5.95097885,  0.90085474,\n",
       "        3.05341886, 12.87460749, 12.87460749, 20.81007368, 19.03206952,\n",
       "       17.5665044 , 16.05676048, 10.74332418, 10.74332418,  2.39080042,\n",
       "       20.45889262, 25.20372692, 19.75003057, 12.87460749, 14.49586729,\n",
       "       16.81754785, 20.98487815, 10.30031825,  1.68059027, 16.05676048,\n",
       "       13.69347528,  9.39452403, 19.03206952, 12.87460749, 17.19345198,\n",
       "       12.03756248, 12.87460749, 15.67164703, 14.0966355 , 19.75003057,\n",
       "       16.05676048, 15.28321998,  9.39452403, 14.0966355 , 22.87522616,\n",
       "       18.30443972, 12.03756248, 10.74332418, 11.39663652, 10.30031825,\n",
       "       12.87460749, 17.19345198, 14.89134249, 25.53001023,  3.68042409,\n",
       "       12.87460749, 12.87460749, 20.45889262,  5.41138184, 10.74332418,\n",
       "       16.43868777, 12.87460749, 14.89134249, 12.03756248, 15.28321998,\n",
       "       20.45889262, 13.28620021, 12.87460749, 17.93680297, 23.88305747,\n",
       "       12.87460749, 14.89134249, 26.50005931, 15.28321998, 19.39222159,\n",
       "       14.89134249, 12.87460749, 15.28321998, 17.19345198, 22.53576928,\n",
       "        2.39080042, 23.21289825, 19.03206952, 12.87460749, 17.5665044 ,\n",
       "        9.39452403, 13.28620021, 25.20372692, 17.19345198, 12.87460749,\n",
       "       13.28620021, 19.39222159, 17.93680297, 26.82057499, 20.81007368,\n",
       "       12.87460749,  4.85505802, 17.19345198, 27.45752353, 14.49586729,\n",
       "        9.39452403, 10.74332418, 12.87460749, 16.43868777, 15.28321998,\n",
       "       12.03756248, 19.75003057, 12.03756248, 13.69347528, 10.74332418,\n",
       "       17.5665044 , 12.87460749, 12.87460749, 12.66712362,  1.68059027,\n",
       "       12.87460749, 22.53576928, 12.87460749, 10.74332418, 12.87460749,\n",
       "        0.83432877, 12.87460749,  9.85087149, 15.28321998, 15.28321998,\n",
       "       12.87460749, 10.30031825, 13.69347528, 20.1055657 , 13.69347528,\n",
       "       12.87460749, 23.88305747, 15.67164703, 19.03206952, 14.0966355 ,\n",
       "       15.28321998, 12.03756248, 17.5665044 , 26.17814599, 17.5665044 ,\n",
       "       15.67164703,  9.39452403, 12.87460749, 20.98487815, 18.30443972,\n",
       "        9.39452403, 12.87460749, 14.89134249, 19.39222159, 20.81007368,\n",
       "       20.81007368,  1.68059027, 12.87460749, 14.49586729, 17.5665044 ,\n",
       "       12.87460749, 19.03206952, 12.87460749,  2.39080042, 19.75003057,\n",
       "       12.45847574, 12.87460749,  8.93075392, 13.28620021, 12.03756248,\n",
       "       18.30443972, 19.03206952, 14.89134249, 20.81007368, 17.19345198,\n",
       "       15.28321998, 25.85480625, 12.87460749, 12.87460749, 13.28620021,\n",
       "       10.30031825, 10.74332418, 12.03756248,  2.39080042, 12.87460749,\n",
       "       12.03756248, 14.0966355 , 11.18029715, 10.74332418, 19.75003057,\n",
       "        0.90085474, 16.05676048, 17.19345198, 10.30031825,  0.90085474,\n",
       "       17.5665044 , 12.87460749,  9.85087149, 17.5665044 , 11.61160108,\n",
       "       14.49586729, 12.45847574, 12.87460749, 12.03756248, 15.67164703,\n",
       "       21.15916814, 12.45847574, 14.49586729, 18.66950131, 13.69347528,\n",
       "       11.61160108, 14.49586729, 11.18029715, 16.81754785, 22.87522616,\n",
       "        2.39080042, 11.61160108, 12.87460749, 16.43868777, 20.45889262,\n",
       "       12.87460749, 16.81754785, 10.30031825,  6.47595863, 11.61160108,\n",
       "       14.89134249, 14.49586729, 10.30031825, 14.49586729, 10.74332418,\n",
       "       16.05676048, 14.49586729, 19.75003057,  9.85087149, 22.53576928,\n",
       "        8.45896421, 11.61160108, 12.87460749, 27.1397208 , 15.67164703,\n",
       "       20.81007368, 11.18029715, 13.28620021, 14.49586729, 12.87460749,\n",
       "        3.05341886,  7.97846645, 16.81754785,  3.68042409, 23.21289825,\n",
       "       17.5665044 , 12.87460749, 15.28321998, 22.19448289, 14.89134249,\n",
       "       27.45752353, 12.87460749, 22.53576928, 21.85132025, 16.81754785,\n",
       "       21.50623242, 21.85132025, 18.30443972, 24.54656839, 12.87460749,\n",
       "        0.69036978, 18.30443972, 16.43868777, 12.45847574, 12.03756248,\n",
       "       12.87460749, 14.89134249, 12.03756248,  1.68059027,  5.95097885,\n",
       "       22.53576928, 26.82057499, 13.28620021, 17.19345198, 25.20372692,\n",
       "        5.95097885, 11.61160108, 24.21562491, 29.3375254 , 12.87460749,\n",
       "       23.88305747, 12.87460749, 13.28620021, 12.87460749, 11.61160108,\n",
       "       12.87460749, 17.93680297,  9.39452403, 10.30031825, 16.43868777,\n",
       "       12.87460749, 14.49586729, 13.69347528, 14.89134249, 17.5665044 ,\n",
       "       23.88305747, 12.87460749, 21.50623242, 16.81754785, 12.87460749,\n",
       "       17.5665044 , 16.05676048, 15.28321998, 20.45889262, 12.87460749,\n",
       "       19.21244291, 12.87460749, 18.66950131, 12.45847574,  1.68059027,\n",
       "        9.85087149, 12.87460749, 15.28321998,  4.85505802, 20.81007368,\n",
       "       15.28321998, 12.87460749, 12.03756248, 17.5665044 ,  5.95097885,\n",
       "        6.98799814, 16.05676048, 22.53576928, 27.1397208 , 10.74332418,\n",
       "       12.87460749, 16.43868777,  5.41138184,  9.85087149, 14.0966355 ,\n",
       "       12.87460749, 12.03756248, 12.03756248, 26.50005931, 21.85132025,\n",
       "       12.87460749, 18.66950131, 17.5665044 , 19.03206952, 14.49586729,\n",
       "       12.87460749, 10.74332418, 14.89134249, 16.05676048, 26.50005931,\n",
       "       23.54882835, 17.5665044 ,  9.39452403, 10.74332418, 16.81754785,\n",
       "       18.66950131, 12.87460749, 16.05676048, 13.28620021, 18.66950131,\n",
       "       23.88305747, 17.5665044 , 12.87460749, 10.30031825, 21.50623242,\n",
       "       25.85480625, 17.19345198, 23.21289825, 21.50623242, 12.87460749,\n",
       "       17.93680297, 17.5665044 , 12.87460749, 22.19448289, 22.19448289,\n",
       "       12.87460749, 12.87460749, 20.45889262, 17.19345198, 17.5665044 ,\n",
       "       15.28321998, 14.0966355 , 12.03756248, 19.03206952, 18.66950131,\n",
       "       12.87460749, 12.87460749, 16.81754785, 13.69347528,  3.05341886,\n",
       "       13.69347528, 14.0966355 , 19.75003057, 11.18029715, 11.61160108,\n",
       "       11.61160108, 26.17814599, 24.87592412, 11.61160108, 13.69347528,\n",
       "       12.87460749, 32.07913704, 22.87522616, 16.05676048, 12.87460749,\n",
       "        5.95097885, 15.67164703, 19.39222159, 12.87460749,  1.68059027,\n",
       "       12.87460749, 21.85132025, 24.54656839, 12.87460749, 12.45847574,\n",
       "       10.30031825, 11.61160108, 12.87460749, 10.30031825, 12.87460749,\n",
       "       16.05676048, 12.45847574, 25.20372692, 22.53576928, 19.03206952,\n",
       "       21.50623242, 17.5665044 , 11.18029715, 16.05676048, 12.87460749,\n",
       "       20.1055657 , 12.87460749, 19.03206952, 15.67164703, 29.02726697,\n",
       "       15.67164703, 10.30031825, 13.08095693, 10.30031825, 20.1055657 ,\n",
       "       17.5665044 , 12.87460749, 14.0966355 , 11.18029715,  8.45896421,\n",
       "       25.85480625, 13.28620021,  8.45896421, 10.74332418, 10.30031825,\n",
       "        8.93075392, 15.67164703,  3.05341886, 13.28620021, 25.85480625,\n",
       "       23.21289825, 12.87460749, 22.19448289, 19.75003057, 10.30031825,\n",
       "       17.19345198, 10.30031825, 13.28620021, 13.69347528, 18.66950131,\n",
       "       20.81007368, 19.75003057, 12.03756248, 12.87460749, 12.87460749,\n",
       "       21.85132025, 14.89134249, 23.21289825, 10.74332418, 18.30443972,\n",
       "       14.0966355 , 12.87460749, 16.43868777,  4.27928355,  9.85087149,\n",
       "       16.81754785, 22.53576928, 14.0966355 , 11.18029715, 15.28321998,\n",
       "       12.87460749, 13.28620021, 13.28620021, 14.89134249,  6.98799814,\n",
       "       14.69406425, 21.85132025, 17.19345198, 12.87460749, 17.5665044 ,\n",
       "       11.61160108, 12.87460749, 15.67164703, 29.02726697,  9.39452403,\n",
       "       15.28321998, 10.74332418, 15.67164703,  3.05341886,  4.27928355,\n",
       "       16.43868777, 12.45847574, 21.85132025,  0.62130796, 14.49586729,\n",
       "       16.43868777, 19.39222159, 11.18029715, 17.5665044 ,  9.39452403,\n",
       "       22.87522616, 12.87460749, 15.47785603, 12.87460749, 16.05676048,\n",
       "       12.87460749, 21.85132025, 24.87592412, 23.88305747, 10.30031825,\n",
       "       12.87460749,  3.68042409, 12.87460749, 20.1055657 ,  7.97846645,\n",
       "        9.85087149, 14.89134249, 12.87460749, 13.28620021, 13.28620021,\n",
       "       10.30031825,  5.41138184,  0.90085474, 21.15916814,  9.39452403,\n",
       "       12.87460749, 13.28620021, 18.66950131, 22.19448289, 15.67164703,\n",
       "       15.28321998, 15.28321998, 15.67164703,  6.98799814,  0.39932517,\n",
       "       14.0966355 , 15.67164703, 18.66950131, 10.30031825, 16.43868777,\n",
       "       13.69347528, 18.66950131, 17.19345198,  4.27928355, 15.47785603,\n",
       "       12.87460749, 12.45847574, 15.67164703, 20.1055657 ,  6.47595863,\n",
       "       23.21289825, 14.0966355 , 18.30443972, 14.0966355 ,  1.68059027,\n",
       "       12.87460749, 12.87460749,  0.90085474, 12.87460749, 26.50005931,\n",
       "        8.93075392,  0.75857128, 12.45847574, 10.30031825, 18.66950131,\n",
       "       11.61160108, 12.87460749, 11.18029715,  9.39452403, 15.28321998,\n",
       "       17.00586274, 19.75003057, 17.19345198, 14.49586729, 12.87460749,\n",
       "        3.05341886, 30.26130846,  5.95097885,  9.39452403, 20.45889262,\n",
       "       10.30031825, 20.81007368, 22.87522616, 12.87460749, 19.39222159,\n",
       "       11.61160108, 21.85132025, 12.87460749, 19.75003057, 14.0966355 ,\n",
       "       15.67164703, 12.87460749,  3.05341886, 21.50623242, 16.43868777,\n",
       "       21.50623242, 14.49586729,  8.93075392, 11.18029715, 24.54656839,\n",
       "       13.28620021, 16.43868777, 12.03756248, 14.49586729, 18.66950131,\n",
       "       10.74332418, 12.87460749, 13.69347528, 16.05676048])"
      ]
     },
     "execution_count": 180,
     "metadata": {},
     "output_type": "execute_result"
    }
   ],
   "source": [
    "_"
   ]
  },
  {
   "cell_type": "code",
   "execution_count": 181,
   "metadata": {},
   "outputs": [
    {
     "data": {
      "text/plain": [
       "0.725893337729818"
      ]
     },
     "execution_count": 181,
     "metadata": {},
     "output_type": "execute_result"
    }
   ],
   "source": [
    "l"
   ]
  },
  {
   "cell_type": "code",
   "execution_count": 182,
   "metadata": {},
   "outputs": [],
   "source": [
    "data2 = dataset.copy()"
   ]
  },
  {
   "cell_type": "code",
   "execution_count": 188,
   "metadata": {},
   "outputs": [
    {
     "data": {
      "text/plain": [
       "<AxesSubplot:xlabel='sibsp', ylabel='Count'>"
      ]
     },
     "execution_count": 188,
     "metadata": {},
     "output_type": "execute_result"
    },
    {
     "data": {
      "image/png": "[encoded data removed]",
      "text/plain": [
       "<Figure size 432x288 with 1 Axes>"
      ]
     },
     "metadata": {
      "needs_background": "light"
     },
     "output_type": "display_data"
    }
   ],
   "source": [
    "sns.histplot(data['sibsp'],kde=True)"
   ]
  },
  {
   "cell_type": "code",
   "execution_count": null,
   "metadata": {},
   "outputs": [],
   "source": []
  },
  {
   "cell_type": "code",
   "execution_count": null,
   "metadata": {},
   "outputs": [],
   "source": []
  },
  {
   "cell_type": "code",
   "execution_count": null,
   "metadata": {},
   "outputs": [],
   "source": []
  },
  {
   "cell_type": "code",
   "execution_count": null,
   "metadata": {},
   "outputs": [],
   "source": []
  },
  {
   "cell_type": "code",
   "execution_count": null,
   "metadata": {},
   "outputs": [],
   "source": []
  }
 ],
 "metadata": {
  "kernelspec": {
   "display_name": "Python 3",
   "language": "python",
   "name": "python3"
  },
  "language_info": {
   "codemirror_mode": {
    "name": "ipython",
    "version": 3
   },
   "file_extension": ".py",
   "mimetype": "text/x-python",
   "name": "python",
   "nbconvert_exporter": "python",
   "pygments_lexer": "ipython3",
   "version": "3.8.5"
  }
 },
 "nbformat": 4,
 "nbformat_minor": 4
}
